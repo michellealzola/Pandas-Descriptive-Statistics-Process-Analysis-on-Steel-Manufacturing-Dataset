{
 "cells": [
  {
   "metadata": {},
   "cell_type": "markdown",
   "source": [
    "# Comprehensive problem set based on the dataset (`ccm_rul_dataset.csv`) that covers:\n",
    "\n",
    "* **Summarizing and Computing Descriptive Statistics**\n",
    "* **Correlation and Covariance**\n",
    "* **Unique Values, Value Counts, and Membership**\n",
    "* **Additional related concepts**: ranking, quantiles, percent change, rolling windows, and group-based stats.\n",
    "\n",
    "\n",
    "\n",
    "## General Problem Statement\n",
    "\n",
    "The goal of this problem set is to apply Pandas' capabilities for descriptive statistics, value analysis, and summary operations on a real-world manufacturing dataset. This will deepen understanding of practical data profiling and exploratory data analysis (EDA).\n",
    "\n",
    "\n",
    "\n",
    "## Purpose of the Problems\n",
    "\n",
    "These problems will help:\n",
    "\n",
    "* Identify the structure and trends in large datasets.\n",
    "* Analyze numeric, categorical, and time-series values.\n",
    "* Extract insight using core Pandas statistical and summarization tools.\n",
    "* Understand data variation, quality, and relationships across manufacturing attributes.\n",
    "\n",
    "\n",
    "\n",
    "## Dataset Overview\n",
    "\n",
    "**Dataset:** `ccm_rul_dataset.csv`\n",
    "\n",
    "**Context:** This dataset comes from a continuous casting manufacturing (CCM) process. It includes timestamps, material compositions, operational parameters (temperatures, water flow, speed), and an important predictive column: **RUL** (Remaining Useful Life).\n",
    "\n",
    "**Why it’s perfect for this topic:**\n",
    "\n",
    "* Mixture of numeric, categorical, and time-related data.\n",
    "* Contains missing values and varying distributions.\n",
    "* Enables correlation analysis between physical properties and outcomes.\n",
    "* Provides opportunities for statistical grouping, rolling analysis, and ranking.\n",
    "\n",
    "\n"
   ],
   "id": "460d93f6daa9b8ba"
  },
  {
   "metadata": {
    "ExecuteTime": {
     "end_time": "2025-05-07T13:14:05.646534Z",
     "start_time": "2025-05-07T13:14:04.911977Z"
    }
   },
   "cell_type": "code",
   "source": [
    "import pandas as pd\n",
    "import numpy as np"
   ],
   "id": "bd16dfa357d205f8",
   "outputs": [],
   "execution_count": 1
  },
  {
   "metadata": {
    "ExecuteTime": {
     "end_time": "2025-05-07T13:14:05.735726Z",
     "start_time": "2025-05-07T13:14:05.648110Z"
    }
   },
   "cell_type": "code",
   "source": "data = pd.read_csv('ccm_rul_dataset.csv')",
   "id": "d2315b251892231e",
   "outputs": [],
   "execution_count": 2
  },
  {
   "metadata": {
    "ExecuteTime": {
     "end_time": "2025-05-07T13:14:05.739753Z",
     "start_time": "2025-05-07T13:14:05.736924Z"
    }
   },
   "cell_type": "code",
   "source": "df = pd.DataFrame(data)",
   "id": "ea71027ba3cdecb8",
   "outputs": [],
   "execution_count": 3
  },
  {
   "metadata": {
    "ExecuteTime": {
     "end_time": "2025-05-07T13:14:05.764257Z",
     "start_time": "2025-05-07T13:14:05.741495Z"
    }
   },
   "cell_type": "code",
   "source": "df.head(5)",
   "id": "14e5f02dbc8a583f",
   "outputs": [
    {
     "data": {
      "text/plain": [
       "         date  workpiece_weight, tonn steel_type doc_requirement  cast_in_row  \\\n",
       "0  2020-01-05                   144.9     Arm240  DOC 34028-2016            4   \n",
       "1  2020-01-05                   165.9      St3sp        Contract           10   \n",
       "2  2020-01-05                   168.0     Arm240  DOC 34028-2016            5   \n",
       "3  2020-01-05                   170.1      St3sp        Contract            7   \n",
       "4  2020-01-05                   163.8      St3sp        Contract           12   \n",
       "\n",
       "  workpiece_slice_geometry alloy_type  steel_weight_theoretical, tonn  \\\n",
       "0                  150x150       open                           145.3   \n",
       "1                  150x150       open                           166.3   \n",
       "2                  150x150       open                           168.4   \n",
       "3                  150x150       open                           170.5   \n",
       "4                  150x150       open                           164.2   \n",
       "\n",
       "   slag_weight_close_grab1, tonn  metal_residue_grab1, tonn  ...   Al, %  \\\n",
       "0                            1.8                        0.4  ...  0.0022   \n",
       "1                            1.8                        0.4  ...  0.0028   \n",
       "2                            1.8                        0.4  ...  0.0031   \n",
       "3                            1.8                        0.4  ...  0.0034   \n",
       "4                            1.8                        0.4  ...  0.0032   \n",
       "\n",
       "    Ca, %    N, %  Pb, %  Mg, %  Zn, %    sleeve  num_crystallizer  \\\n",
       "0  0.0008  0.0085    0.0    0.0    0.0  30012261                22   \n",
       "1  0.0004  0.0049    0.0    0.0    0.0  30013346                 2   \n",
       "2  0.0011  0.0068    0.0    0.0    0.0  30012261                22   \n",
       "3  0.0005  0.0051    0.0    0.0    0.0  30012261                22   \n",
       "4  0.0004  0.0038    0.0    0.0    0.0  30012261                22   \n",
       "\n",
       "   num_stream     RUL  \n",
       "0           4   384.0  \n",
       "1           1  1037.0  \n",
       "2           4   355.0  \n",
       "3           4   300.0  \n",
       "4           4   164.0  \n",
       "\n",
       "[5 rows x 57 columns]"
      ],
      "text/html": [
       "<div>\n",
       "<style scoped>\n",
       "    .dataframe tbody tr th:only-of-type {\n",
       "        vertical-align: middle;\n",
       "    }\n",
       "\n",
       "    .dataframe tbody tr th {\n",
       "        vertical-align: top;\n",
       "    }\n",
       "\n",
       "    .dataframe thead th {\n",
       "        text-align: right;\n",
       "    }\n",
       "</style>\n",
       "<table border=\"1\" class=\"dataframe\">\n",
       "  <thead>\n",
       "    <tr style=\"text-align: right;\">\n",
       "      <th></th>\n",
       "      <th>date</th>\n",
       "      <th>workpiece_weight, tonn</th>\n",
       "      <th>steel_type</th>\n",
       "      <th>doc_requirement</th>\n",
       "      <th>cast_in_row</th>\n",
       "      <th>workpiece_slice_geometry</th>\n",
       "      <th>alloy_type</th>\n",
       "      <th>steel_weight_theoretical, tonn</th>\n",
       "      <th>slag_weight_close_grab1, tonn</th>\n",
       "      <th>metal_residue_grab1, tonn</th>\n",
       "      <th>...</th>\n",
       "      <th>Al, %</th>\n",
       "      <th>Ca, %</th>\n",
       "      <th>N, %</th>\n",
       "      <th>Pb, %</th>\n",
       "      <th>Mg, %</th>\n",
       "      <th>Zn, %</th>\n",
       "      <th>sleeve</th>\n",
       "      <th>num_crystallizer</th>\n",
       "      <th>num_stream</th>\n",
       "      <th>RUL</th>\n",
       "    </tr>\n",
       "  </thead>\n",
       "  <tbody>\n",
       "    <tr>\n",
       "      <th>0</th>\n",
       "      <td>2020-01-05</td>\n",
       "      <td>144.9</td>\n",
       "      <td>Arm240</td>\n",
       "      <td>DOC 34028-2016</td>\n",
       "      <td>4</td>\n",
       "      <td>150x150</td>\n",
       "      <td>open</td>\n",
       "      <td>145.3</td>\n",
       "      <td>1.8</td>\n",
       "      <td>0.4</td>\n",
       "      <td>...</td>\n",
       "      <td>0.0022</td>\n",
       "      <td>0.0008</td>\n",
       "      <td>0.0085</td>\n",
       "      <td>0.0</td>\n",
       "      <td>0.0</td>\n",
       "      <td>0.0</td>\n",
       "      <td>30012261</td>\n",
       "      <td>22</td>\n",
       "      <td>4</td>\n",
       "      <td>384.0</td>\n",
       "    </tr>\n",
       "    <tr>\n",
       "      <th>1</th>\n",
       "      <td>2020-01-05</td>\n",
       "      <td>165.9</td>\n",
       "      <td>St3sp</td>\n",
       "      <td>Contract</td>\n",
       "      <td>10</td>\n",
       "      <td>150x150</td>\n",
       "      <td>open</td>\n",
       "      <td>166.3</td>\n",
       "      <td>1.8</td>\n",
       "      <td>0.4</td>\n",
       "      <td>...</td>\n",
       "      <td>0.0028</td>\n",
       "      <td>0.0004</td>\n",
       "      <td>0.0049</td>\n",
       "      <td>0.0</td>\n",
       "      <td>0.0</td>\n",
       "      <td>0.0</td>\n",
       "      <td>30013346</td>\n",
       "      <td>2</td>\n",
       "      <td>1</td>\n",
       "      <td>1037.0</td>\n",
       "    </tr>\n",
       "    <tr>\n",
       "      <th>2</th>\n",
       "      <td>2020-01-05</td>\n",
       "      <td>168.0</td>\n",
       "      <td>Arm240</td>\n",
       "      <td>DOC 34028-2016</td>\n",
       "      <td>5</td>\n",
       "      <td>150x150</td>\n",
       "      <td>open</td>\n",
       "      <td>168.4</td>\n",
       "      <td>1.8</td>\n",
       "      <td>0.4</td>\n",
       "      <td>...</td>\n",
       "      <td>0.0031</td>\n",
       "      <td>0.0011</td>\n",
       "      <td>0.0068</td>\n",
       "      <td>0.0</td>\n",
       "      <td>0.0</td>\n",
       "      <td>0.0</td>\n",
       "      <td>30012261</td>\n",
       "      <td>22</td>\n",
       "      <td>4</td>\n",
       "      <td>355.0</td>\n",
       "    </tr>\n",
       "    <tr>\n",
       "      <th>3</th>\n",
       "      <td>2020-01-05</td>\n",
       "      <td>170.1</td>\n",
       "      <td>St3sp</td>\n",
       "      <td>Contract</td>\n",
       "      <td>7</td>\n",
       "      <td>150x150</td>\n",
       "      <td>open</td>\n",
       "      <td>170.5</td>\n",
       "      <td>1.8</td>\n",
       "      <td>0.4</td>\n",
       "      <td>...</td>\n",
       "      <td>0.0034</td>\n",
       "      <td>0.0005</td>\n",
       "      <td>0.0051</td>\n",
       "      <td>0.0</td>\n",
       "      <td>0.0</td>\n",
       "      <td>0.0</td>\n",
       "      <td>30012261</td>\n",
       "      <td>22</td>\n",
       "      <td>4</td>\n",
       "      <td>300.0</td>\n",
       "    </tr>\n",
       "    <tr>\n",
       "      <th>4</th>\n",
       "      <td>2020-01-05</td>\n",
       "      <td>163.8</td>\n",
       "      <td>St3sp</td>\n",
       "      <td>Contract</td>\n",
       "      <td>12</td>\n",
       "      <td>150x150</td>\n",
       "      <td>open</td>\n",
       "      <td>164.2</td>\n",
       "      <td>1.8</td>\n",
       "      <td>0.4</td>\n",
       "      <td>...</td>\n",
       "      <td>0.0032</td>\n",
       "      <td>0.0004</td>\n",
       "      <td>0.0038</td>\n",
       "      <td>0.0</td>\n",
       "      <td>0.0</td>\n",
       "      <td>0.0</td>\n",
       "      <td>30012261</td>\n",
       "      <td>22</td>\n",
       "      <td>4</td>\n",
       "      <td>164.0</td>\n",
       "    </tr>\n",
       "  </tbody>\n",
       "</table>\n",
       "<p>5 rows × 57 columns</p>\n",
       "</div>"
      ]
     },
     "execution_count": 4,
     "metadata": {},
     "output_type": "execute_result"
    }
   ],
   "execution_count": 4
  },
  {
   "metadata": {
    "ExecuteTime": {
     "end_time": "2025-05-07T13:14:05.773860Z",
     "start_time": "2025-05-07T13:14:05.765272Z"
    }
   },
   "cell_type": "code",
   "source": "numeric_columns = df.select_dtypes(include=[np.number]).columns",
   "id": "29afe006f9d24dfb",
   "outputs": [],
   "execution_count": 5
  },
  {
   "metadata": {
    "ExecuteTime": {
     "end_time": "2025-05-07T13:14:05.778353Z",
     "start_time": "2025-05-07T13:14:05.774838Z"
    }
   },
   "cell_type": "code",
   "source": "numeric_columns",
   "id": "9a60f1eefde9847b",
   "outputs": [
    {
     "data": {
      "text/plain": [
       "Index(['workpiece_weight, tonn', 'cast_in_row',\n",
       "       'steel_weight_theoretical, tonn', 'slag_weight_close_grab1, tonn',\n",
       "       'metal_residue_grab1, tonn', 'steel_weight, tonn',\n",
       "       'residuals_grab2, tonn', 'technical_trim, tonn', 'grab1_num',\n",
       "       'steel_temperature_grab1, Celsius deg.', 'grab2_num',\n",
       "       'resistance, tonn', 'swing_frequency, amount/minute',\n",
       "       'crystallizer_movement, mm', 'alloy_speed, meter/minute',\n",
       "       'water_consumption, liter/minute',\n",
       "       'water_temperature_delta, Celsius deg.',\n",
       "       'water_consumption_secondary_cooling_zone_num1, liter/minute',\n",
       "       'water_consumption_secondary_cooling_zone_num2, liter/minute',\n",
       "       'water_consumption_secondary_cooling_zone_num3, liter/minute',\n",
       "       'quantity, tonn', 'temperature_measurement1, Celsius deg.',\n",
       "       'temperature_measurement2, Celsius deg.', 'Ce, %', 'C, %', 'Si, %',\n",
       "       'Mn,%', 'S, %', 'P, %', 'Cr, %', 'Ni, %', 'Cu, %', 'As, %', 'Mo, %',\n",
       "       'Nb, %', 'Sn, %', 'Ti, %', 'V, %', 'Al, %', 'Ca, %', 'N, %', 'Pb, %',\n",
       "       'Mg, %', 'Zn, %', 'num_crystallizer', 'num_stream', 'RUL'],\n",
       "      dtype='object')"
      ]
     },
     "execution_count": 6,
     "metadata": {},
     "output_type": "execute_result"
    }
   ],
   "execution_count": 6
  },
  {
   "metadata": {
    "ExecuteTime": {
     "end_time": "2025-05-07T13:14:05.784275Z",
     "start_time": "2025-05-07T13:14:05.779289Z"
    }
   },
   "cell_type": "code",
   "source": "non_numeric_columns = df.select_dtypes(exclude=[np.number]).columns",
   "id": "fdafd05df084cb9e",
   "outputs": [],
   "execution_count": 7
  },
  {
   "metadata": {
    "ExecuteTime": {
     "end_time": "2025-05-07T13:14:05.788587Z",
     "start_time": "2025-05-07T13:14:05.785360Z"
    }
   },
   "cell_type": "code",
   "source": "non_numeric_columns",
   "id": "fc5bb0876f883e4e",
   "outputs": [
    {
     "data": {
      "text/plain": [
       "Index(['date', 'steel_type', 'doc_requirement', 'workpiece_slice_geometry',\n",
       "       'alloy_type', 'kind', 'time_temperature_measurement1',\n",
       "       'time_temperature_measurement2', 'sample_time_continuous_caster',\n",
       "       'sleeve'],\n",
       "      dtype='object')"
      ]
     },
     "execution_count": 8,
     "metadata": {},
     "output_type": "execute_result"
    }
   ],
   "execution_count": 8
  },
  {
   "metadata": {},
   "cell_type": "markdown",
   "source": "## Problem Set (20–30 Problems)",
   "id": "8418d3be7979145e"
  },
  {
   "metadata": {},
   "cell_type": "markdown",
   "source": [
    "### Part 1: Descriptive Statistics\n",
    "\n",
    "1. Compute the mean, median, standard deviation, and interquartile range of `steel_weight, tonn`.\n"
   ],
   "id": "ddff20fc75898cc"
  },
  {
   "metadata": {
    "ExecuteTime": {
     "end_time": "2025-05-07T13:14:05.807636Z",
     "start_time": "2025-05-07T13:14:05.789536Z"
    }
   },
   "cell_type": "code",
   "source": "df[numeric_columns] = df[numeric_columns].apply(pd.to_numeric, errors='coerce')",
   "id": "3198bd19f1f2c0a5",
   "outputs": [],
   "execution_count": 9
  },
  {
   "metadata": {
    "ExecuteTime": {
     "end_time": "2025-05-07T13:14:05.815100Z",
     "start_time": "2025-05-07T13:14:05.809641Z"
    }
   },
   "cell_type": "code",
   "source": "df['steel_weight, tonn'].mean()",
   "id": "50c6955dda9e56bc",
   "outputs": [
    {
     "data": {
      "text/plain": [
       "np.float64(163.93864320402218)"
      ]
     },
     "execution_count": 10,
     "metadata": {},
     "output_type": "execute_result"
    }
   ],
   "execution_count": 10
  },
  {
   "metadata": {
    "ExecuteTime": {
     "end_time": "2025-05-07T13:14:05.822702Z",
     "start_time": "2025-05-07T13:14:05.815999Z"
    }
   },
   "cell_type": "code",
   "source": "df['steel_weight, tonn'].median()",
   "id": "1824c975013a9cf",
   "outputs": [
    {
     "data": {
      "text/plain": [
       "np.float64(163.296)"
      ]
     },
     "execution_count": 11,
     "metadata": {},
     "output_type": "execute_result"
    }
   ],
   "execution_count": 11
  },
  {
   "metadata": {
    "ExecuteTime": {
     "end_time": "2025-05-07T13:14:05.826805Z",
     "start_time": "2025-05-07T13:14:05.823572Z"
    }
   },
   "cell_type": "code",
   "source": "df['steel_weight, tonn'].std()",
   "id": "f922cb8605c5f3d8",
   "outputs": [
    {
     "data": {
      "text/plain": [
       "np.float64(5.258551916587412)"
      ]
     },
     "execution_count": 12,
     "metadata": {},
     "output_type": "execute_result"
    }
   ],
   "execution_count": 12
  },
  {
   "metadata": {
    "ExecuteTime": {
     "end_time": "2025-05-07T13:14:05.834164Z",
     "start_time": "2025-05-07T13:14:05.828044Z"
    }
   },
   "cell_type": "code",
   "source": "q1 = df['steel_weight, tonn'].quantile(0.25)",
   "id": "2b00ab11e80a99e0",
   "outputs": [],
   "execution_count": 13
  },
  {
   "metadata": {
    "ExecuteTime": {
     "end_time": "2025-05-07T13:14:05.839189Z",
     "start_time": "2025-05-07T13:14:05.835109Z"
    }
   },
   "cell_type": "code",
   "source": "q3 = df['steel_weight, tonn'].quantile(0.75)",
   "id": "9609cc1409de406c",
   "outputs": [],
   "execution_count": 14
  },
  {
   "metadata": {
    "ExecuteTime": {
     "end_time": "2025-05-07T13:14:05.842059Z",
     "start_time": "2025-05-07T13:14:05.840077Z"
    }
   },
   "cell_type": "code",
   "source": "IQR = q3 - q1",
   "id": "7a039227dadaea38",
   "outputs": [],
   "execution_count": 15
  },
  {
   "metadata": {
    "ExecuteTime": {
     "end_time": "2025-05-07T13:14:05.846045Z",
     "start_time": "2025-05-07T13:14:05.843120Z"
    }
   },
   "cell_type": "code",
   "source": "IQR",
   "id": "9b38dbc8ca65a91",
   "outputs": [
    {
     "data": {
      "text/plain": [
       "np.float64(6.2239999999999895)"
      ]
     },
     "execution_count": 16,
     "metadata": {},
     "output_type": "execute_result"
    }
   ],
   "execution_count": 16
  },
  {
   "metadata": {},
   "cell_type": "markdown",
   "source": [
    "### Interpretation\n",
    "Mean ≈ 163.94 tells the average steel weight per record.\n",
    "\n",
    "Median ≈ 163.30 is very close to the mean, suggesting a roughly symmetric distribution.\n",
    "\n",
    "Standard deviation ≈ 5.26 tells the average variation from the mean.\n",
    "\n",
    "IQR ≈ 6.22 shows the middle 50% of values fall within a narrow range, indicating consistency."
   ],
   "id": "261a24b5c054cc7a"
  },
  {
   "metadata": {},
   "cell_type": "markdown",
   "source": "2. Find the maximum and minimum values of `temperature_measurement1, Celsius deg.` and identify the corresponding dates.",
   "id": "822d46588050b290"
  },
  {
   "metadata": {
    "ExecuteTime": {
     "end_time": "2025-05-07T13:14:05.849395Z",
     "start_time": "2025-05-07T13:14:05.846892Z"
    }
   },
   "cell_type": "code",
   "source": "max_temp = df['temperature_measurement1, Celsius deg.'].max()",
   "id": "94f7ffaa8f011620",
   "outputs": [],
   "execution_count": 17
  },
  {
   "metadata": {
    "ExecuteTime": {
     "end_time": "2025-05-07T13:14:05.855407Z",
     "start_time": "2025-05-07T13:14:05.850512Z"
    }
   },
   "cell_type": "code",
   "source": "min_temp = df['temperature_measurement2, Celsius deg.'].min()",
   "id": "69df55e4b11ba6c0",
   "outputs": [],
   "execution_count": 18
  },
  {
   "metadata": {
    "ExecuteTime": {
     "end_time": "2025-05-07T13:14:05.861504Z",
     "start_time": "2025-05-07T13:14:05.856435Z"
    }
   },
   "cell_type": "code",
   "source": "max_temp_index = df['temperature_measurement1, Celsius deg.'].idxmax()",
   "id": "ab057dceb7fc8fde",
   "outputs": [],
   "execution_count": 19
  },
  {
   "metadata": {
    "ExecuteTime": {
     "end_time": "2025-05-07T13:14:05.864852Z",
     "start_time": "2025-05-07T13:14:05.862340Z"
    }
   },
   "cell_type": "code",
   "source": "min_temp_index = df['temperature_measurement2, Celsius deg.'].idxmin()",
   "id": "a43e8ad6991905f1",
   "outputs": [],
   "execution_count": 20
  },
  {
   "metadata": {
    "ExecuteTime": {
     "end_time": "2025-05-07T13:14:05.868689Z",
     "start_time": "2025-05-07T13:14:05.866038Z"
    }
   },
   "cell_type": "code",
   "source": "max_date = df.loc[max_temp_index, 'date']",
   "id": "46e115807a7a0c4a",
   "outputs": [],
   "execution_count": 21
  },
  {
   "metadata": {
    "ExecuteTime": {
     "end_time": "2025-05-07T13:14:05.872747Z",
     "start_time": "2025-05-07T13:14:05.869931Z"
    }
   },
   "cell_type": "code",
   "source": "min_date = df.loc[min_temp_index, 'date']",
   "id": "ddc5fdaa93ee0576",
   "outputs": [],
   "execution_count": 22
  },
  {
   "metadata": {
    "ExecuteTime": {
     "end_time": "2025-05-07T13:14:05.876439Z",
     "start_time": "2025-05-07T13:14:05.873763Z"
    }
   },
   "cell_type": "code",
   "source": [
    "temp_measurement = pd.DataFrame(\n",
    "    {\n",
    "        'Max_value': (max_date, max_temp),\n",
    "        'Min_value': (min_date, min_temp),\n",
    "    },\n",
    "    index=['Date', 'Temperature °C']    \n",
    ")"
   ],
   "id": "289199bdebcd3971",
   "outputs": [],
   "execution_count": 23
  },
  {
   "metadata": {
    "ExecuteTime": {
     "end_time": "2025-05-07T13:14:05.882493Z",
     "start_time": "2025-05-07T13:14:05.877246Z"
    }
   },
   "cell_type": "code",
   "source": "temp_measurement",
   "id": "a9e851c89acf16",
   "outputs": [
    {
     "data": {
      "text/plain": [
       "                 Max_value   Min_value\n",
       "Date            2020-08-23  2020-08-07\n",
       "Temperature °C      1939.0      1518.0"
      ],
      "text/html": [
       "<div>\n",
       "<style scoped>\n",
       "    .dataframe tbody tr th:only-of-type {\n",
       "        vertical-align: middle;\n",
       "    }\n",
       "\n",
       "    .dataframe tbody tr th {\n",
       "        vertical-align: top;\n",
       "    }\n",
       "\n",
       "    .dataframe thead th {\n",
       "        text-align: right;\n",
       "    }\n",
       "</style>\n",
       "<table border=\"1\" class=\"dataframe\">\n",
       "  <thead>\n",
       "    <tr style=\"text-align: right;\">\n",
       "      <th></th>\n",
       "      <th>Max_value</th>\n",
       "      <th>Min_value</th>\n",
       "    </tr>\n",
       "  </thead>\n",
       "  <tbody>\n",
       "    <tr>\n",
       "      <th>Date</th>\n",
       "      <td>2020-08-23</td>\n",
       "      <td>2020-08-07</td>\n",
       "    </tr>\n",
       "    <tr>\n",
       "      <th>Temperature °C</th>\n",
       "      <td>1939.0</td>\n",
       "      <td>1518.0</td>\n",
       "    </tr>\n",
       "  </tbody>\n",
       "</table>\n",
       "</div>"
      ]
     },
     "execution_count": 24,
     "metadata": {},
     "output_type": "execute_result"
    }
   ],
   "execution_count": 24
  },
  {
   "metadata": {},
   "cell_type": "markdown",
   "source": [
    "### Interpretation\n",
    "This gives both the extreme values and the exact time they occurred — very useful in quality control and process optimization."
   ],
   "id": "5b8c927cc7a35d5"
  },
  {
   "metadata": {},
   "cell_type": "markdown",
   "source": "3. Compute the range (max - min) for `RUL`.",
   "id": "f31433767204a68b"
  },
  {
   "metadata": {
    "ExecuteTime": {
     "end_time": "2025-05-07T13:14:05.886063Z",
     "start_time": "2025-05-07T13:14:05.883341Z"
    }
   },
   "cell_type": "code",
   "source": "RUL_range = df['RUL'].max() - df['RUL'].min()",
   "id": "c2c424405cdb628b",
   "outputs": [],
   "execution_count": 25
  },
  {
   "metadata": {
    "ExecuteTime": {
     "end_time": "2025-05-07T13:14:05.890109Z",
     "start_time": "2025-05-07T13:14:05.886922Z"
    }
   },
   "cell_type": "code",
   "source": "RUL_range",
   "id": "7c263765ea74ef63",
   "outputs": [
    {
     "data": {
      "text/plain": [
       "np.float64(8473111.0)"
      ]
     },
     "execution_count": 26,
     "metadata": {},
     "output_type": "execute_result"
    }
   ],
   "execution_count": 26
  },
  {
   "metadata": {},
   "cell_type": "markdown",
   "source": [
    "### Interpretation\n",
    "That means the Remaining Useful Life values vary across a range of over 8.47 million units, which is quite large and may indicate outliers or an extensive timescale."
   ],
   "id": "8dccacea36ef6d06"
  },
  {
   "metadata": {},
   "cell_type": "markdown",
   "source": "4. Determine how many rows have a `NaN` in `technical_trim, tonn` and compute its mean (excluding NaNs).",
   "id": "b3ee93f459c60535"
  },
  {
   "metadata": {
    "ExecuteTime": {
     "end_time": "2025-05-07T13:14:05.893366Z",
     "start_time": "2025-05-07T13:14:05.890924Z"
    }
   },
   "cell_type": "code",
   "source": "nan_count = df['technical_trim, tonn'].isna().sum()",
   "id": "f79918949ca37ce8",
   "outputs": [],
   "execution_count": 27
  },
  {
   "metadata": {
    "ExecuteTime": {
     "end_time": "2025-05-07T13:14:05.899347Z",
     "start_time": "2025-05-07T13:14:05.895587Z"
    }
   },
   "cell_type": "code",
   "source": "nan_count",
   "id": "6021dd84bac06bc4",
   "outputs": [
    {
     "data": {
      "text/plain": [
       "np.int64(17427)"
      ]
     },
     "execution_count": 28,
     "metadata": {},
     "output_type": "execute_result"
    }
   ],
   "execution_count": 28
  },
  {
   "metadata": {
    "ExecuteTime": {
     "end_time": "2025-05-07T13:14:05.902614Z",
     "start_time": "2025-05-07T13:14:05.900278Z"
    }
   },
   "cell_type": "code",
   "source": "mean_trim = df['technical_trim, tonn'].mean(skipna=True)",
   "id": "9929b1dc642832c2",
   "outputs": [],
   "execution_count": 29
  },
  {
   "metadata": {
    "ExecuteTime": {
     "end_time": "2025-05-07T13:14:05.906789Z",
     "start_time": "2025-05-07T13:14:05.903837Z"
    }
   },
   "cell_type": "code",
   "source": "mean_trim",
   "id": "3ebcb4b3c4690c60",
   "outputs": [
    {
     "data": {
      "text/plain": [
       "np.float64(5.271973684210526)"
      ]
     },
     "execution_count": 30,
     "metadata": {},
     "output_type": "execute_result"
    }
   ],
   "execution_count": 30
  },
  {
   "metadata": {
    "ExecuteTime": {
     "end_time": "2025-05-07T13:14:05.909988Z",
     "start_time": "2025-05-07T13:14:05.907807Z"
    }
   },
   "cell_type": "code",
   "source": "valid_data_count = df.index.shape[0] - nan_count",
   "id": "c7320c850f1898a9",
   "outputs": [],
   "execution_count": 31
  },
  {
   "metadata": {
    "ExecuteTime": {
     "end_time": "2025-05-07T13:14:05.913821Z",
     "start_time": "2025-05-07T13:14:05.910953Z"
    }
   },
   "cell_type": "code",
   "source": "valid_data_count",
   "id": "156a1d4e5b7667ac",
   "outputs": [
    {
     "data": {
      "text/plain": [
       "np.int64(76)"
      ]
     },
     "execution_count": 32,
     "metadata": {},
     "output_type": "execute_result"
    }
   ],
   "execution_count": 32
  },
  {
   "metadata": {
    "ExecuteTime": {
     "end_time": "2025-05-07T13:14:05.917177Z",
     "start_time": "2025-05-07T13:14:05.914875Z"
    }
   },
   "cell_type": "code",
   "source": "sum_of_valid_values = df['technical_trim, tonn'].sum()",
   "id": "ef1d82b33eab13ff",
   "outputs": [],
   "execution_count": 33
  },
  {
   "metadata": {
    "ExecuteTime": {
     "end_time": "2025-05-07T13:14:05.921286Z",
     "start_time": "2025-05-07T13:14:05.918034Z"
    }
   },
   "cell_type": "code",
   "source": "sum_of_valid_values",
   "id": "dc60399529ce7a64",
   "outputs": [
    {
     "data": {
      "text/plain": [
       "np.float64(400.66999999999996)"
      ]
     },
     "execution_count": 34,
     "metadata": {},
     "output_type": "execute_result"
    }
   ],
   "execution_count": 34
  },
  {
   "metadata": {},
   "cell_type": "markdown",
   "source": [
    "### Interpretation:\n",
    "1. Very Sparse Data\n",
    "\n",
    "    Only 76 valid records (≈ 0.43%) means this column is mostly missing.\n",
    "\n",
    "- That’s a red flag if planning to use this field in any modeling or decision-making.\n",
    "\n",
    "- Any statistical metric (like the mean) is only reflective of those 76 cases, not the overall dataset.\n",
    "\n",
    "2. Mean Technical Trim ≈ 5.27 tons\n",
    "\n",
    "    Among the 76 records where technical trimming was recorded, the average material trimmed was 5.27 tons.\n",
    "\n",
    "- That’s a large trim, suggesting it occurs only under specific conditions (e.g., defects, misalignment, operational issues).\n",
    "\n",
    "- It may represent exception handling or quality control actions, not normal operation."
   ],
   "id": "564d957bd891c763"
  },
  {
   "metadata": {},
   "cell_type": "markdown",
   "source": [
    "### Possible Insights:\n",
    "- Investigate those 76 records: Are they linked to specific steel_type, cast_in_row, or high resistance values?\n",
    "\n",
    "- Why is data missing in 99.5% of rows? → Could be due to:\n",
    "\n",
    "    - A process that's only used under specific conditions.\n",
    "\n",
    "    - A sensor failure.\n",
    "\n",
    "    - Post-processing data entry (only when trimming happens)."
   ],
   "id": "43c9f0b229f32b4"
  },
  {
   "metadata": {},
   "cell_type": "markdown",
   "source": [
    "### Actionable Ideas:\n",
    "- Don’t use this column as-is for modeling — it’s too sparse.\n",
    "\n",
    "- But it’s valuable for case-by-case analysis or to trigger a binary flag:\n",
    "\n",
    "`\n",
    "df['was_trimmed'] = df['technical_trim, tonn'].notna().astype(int)`\n",
    "\n",
    "Now it can be analyzed which types of products or conditions lead to trimming events."
   ],
   "id": "dbd8b7cccf95bdd0"
  },
  {
   "metadata": {},
   "cell_type": "markdown",
   "source": "5. Find the row index where `water_temperature_delta, Celsius deg.` is highest.",
   "id": "aa98d0cc0adbc953"
  },
  {
   "metadata": {
    "ExecuteTime": {
     "end_time": "2025-05-07T13:14:05.925186Z",
     "start_time": "2025-05-07T13:14:05.922259Z"
    }
   },
   "cell_type": "code",
   "source": "df['water_temperature_delta, Celsius deg.'].idxmax()",
   "id": "86dff7607347fc74",
   "outputs": [
    {
     "data": {
      "text/plain": [
       "0"
      ]
     },
     "execution_count": 35,
     "metadata": {},
     "output_type": "execute_result"
    }
   ],
   "execution_count": 35
  },
  {
   "metadata": {
    "ExecuteTime": {
     "end_time": "2025-05-07T13:14:05.931177Z",
     "start_time": "2025-05-07T13:14:05.926249Z"
    }
   },
   "cell_type": "code",
   "source": "df.loc[df['water_temperature_delta, Celsius deg.'].idxmax()]",
   "id": "789ba2336150a34a",
   "outputs": [
    {
     "data": {
      "text/plain": [
       "date                                                               2020-01-05\n",
       "workpiece_weight, tonn                                                  144.9\n",
       "steel_type                                                             Arm240\n",
       "doc_requirement                                                DOC 34028-2016\n",
       "cast_in_row                                                                 4\n",
       "workpiece_slice_geometry                                              150x150\n",
       "alloy_type                                                               open\n",
       "steel_weight_theoretical, tonn                                          145.3\n",
       "slag_weight_close_grab1, tonn                                             1.8\n",
       "metal_residue_grab1, tonn                                                 0.4\n",
       "steel_weight, tonn                                                      144.9\n",
       "residuals_grab2, tonn                                                     NaN\n",
       "technical_trim, tonn                                                      NaN\n",
       "grab1_num                                                                 4.0\n",
       "steel_temperature_grab1, Celsius deg.                                     NaN\n",
       "grab2_num                                                                 5.0\n",
       "resistance, tonn                                                       3316.0\n",
       "swing_frequency, amount/minute                                            180\n",
       "crystallizer_movement, mm                                                   9\n",
       "alloy_speed, meter/minute                                                   3\n",
       "water_consumption, liter/minute                                          1950\n",
       "water_temperature_delta, Celsius deg.                                       9\n",
       "water_consumption_secondary_cooling_zone_num1, liter/minute               360\n",
       "water_consumption_secondary_cooling_zone_num2, liter/minute               400\n",
       "water_consumption_secondary_cooling_zone_num3, liter/minute             180.0\n",
       "kind                                                                 B 789/BC\n",
       "quantity, tonn                                                           0.03\n",
       "time_temperature_measurement1                                        13:25:00\n",
       "temperature_measurement1, Celsius deg.                                 1549.0\n",
       "time_temperature_measurement2                                        13:25:00\n",
       "temperature_measurement2, Celsius deg.                                 1545.0\n",
       "sample_time_continuous_caster                                        13:31:11\n",
       "Ce, %                                                                     NaN\n",
       "C, %                                                                   0.1873\n",
       "Si, %                                                                  0.1469\n",
       "Mn,%                                                                   0.5242\n",
       "S, %                                                                   0.0051\n",
       "P, %                                                                   0.0136\n",
       "Cr, %                                                                  0.0252\n",
       "Ni, %                                                                  0.0196\n",
       "Cu, %                                                                   0.028\n",
       "As, %                                                                  0.0014\n",
       "Mo, %                                                                  0.0024\n",
       "Nb, %                                                                  0.0006\n",
       "Sn, %                                                                  0.0004\n",
       "Ti, %                                                                  0.0006\n",
       "V, %                                                                    0.003\n",
       "Al, %                                                                  0.0022\n",
       "Ca, %                                                                  0.0008\n",
       "N, %                                                                   0.0085\n",
       "Pb, %                                                                     0.0\n",
       "Mg, %                                                                     0.0\n",
       "Zn, %                                                                     0.0\n",
       "sleeve                                                               30012261\n",
       "num_crystallizer                                                           22\n",
       "num_stream                                                                  4\n",
       "RUL                                                                     384.0\n",
       "Name: 0, dtype: object"
      ]
     },
     "execution_count": 36,
     "metadata": {},
     "output_type": "execute_result"
    }
   ],
   "execution_count": 36
  },
  {
   "metadata": {},
   "cell_type": "markdown",
   "source": [
    "###  Interpretation:\n",
    "This tells that the largest temperature difference in water happened on:\n",
    "\n",
    "`Date: 2020-01-05`\n",
    "\n",
    "`Steel Type: Arm240`\n",
    "\n",
    "`Water ΔT: 9 °C `\n",
    "\n",
    "Compare event to others — e.g., was it due to high alloy speed, cast geometry, or extreme RUL?"
   ],
   "id": "26b27ae29a1550ec"
  },
  {
   "metadata": {},
   "cell_type": "markdown",
   "source": [
    "### Part 2: Quantile & Percentile Analysis\n",
    "\n",
    "6. Calculate the 25th, 50th, and 75th percentiles of `C, %`."
   ],
   "id": "5732883cca5b2261"
  },
  {
   "metadata": {
    "ExecuteTime": {
     "end_time": "2025-05-07T13:19:31.829052Z",
     "start_time": "2025-05-07T13:19:31.822962Z"
    }
   },
   "cell_type": "code",
   "source": [
    "percentiles_list = [25, 50, 75]\n",
    "for percentile in percentiles_list:\n",
    "    print(f'At {percentile} percentile: C, % is {df['C, %'].quantile(percentile / 100)}')"
   ],
   "id": "88ddd3c95eccf990",
   "outputs": [
    {
     "name": "stdout",
     "output_type": "stream",
     "text": [
      "At 25 percentile: C, % is 0.1875\n",
      "At 50 percentile: C, % is 0.1924\n",
      "At 75 percentile: C, % is 0.1974\n"
     ]
    }
   ],
   "execution_count": 39
  },
  {
   "metadata": {},
   "cell_type": "markdown",
   "source": [
    "###  Interpretation:\n",
    "These values are closely clustered, indicating a tight, narrow distribution — possibly due to strict quality control in material carbon content."
   ],
   "id": "ac74939c8c40e68f"
  },
  {
   "metadata": {},
   "cell_type": "markdown",
   "source": "7. Determine how many records have `C, %` above the 75th percentile.",
   "id": "75042f43efd0333a"
  },
  {
   "metadata": {
    "ExecuteTime": {
     "end_time": "2025-05-07T13:22:25.588888Z",
     "start_time": "2025-05-07T13:22:25.584741Z"
    }
   },
   "cell_type": "code",
   "source": "mask = df['C, %'] > df['C, %'].quantile(0.75)",
   "id": "d8152068fbc78329",
   "outputs": [],
   "execution_count": 40
  },
  {
   "metadata": {
    "ExecuteTime": {
     "end_time": "2025-05-07T13:23:32.057409Z",
     "start_time": "2025-05-07T13:23:32.048863Z"
    }
   },
   "cell_type": "code",
   "source": "df[mask].count()",
   "id": "32bd7a5a8db0b2fe",
   "outputs": [
    {
     "data": {
      "text/plain": [
       "date                                                           4358\n",
       "workpiece_weight, tonn                                         4358\n",
       "steel_type                                                     4358\n",
       "doc_requirement                                                4358\n",
       "cast_in_row                                                    4358\n",
       "workpiece_slice_geometry                                       4358\n",
       "alloy_type                                                     4358\n",
       "steel_weight_theoretical, tonn                                 4358\n",
       "slag_weight_close_grab1, tonn                                  4358\n",
       "metal_residue_grab1, tonn                                      4358\n",
       "steel_weight, tonn                                             4358\n",
       "residuals_grab2, tonn                                            86\n",
       "technical_trim, tonn                                             24\n",
       "grab1_num                                                      4277\n",
       "steel_temperature_grab1, Celsius deg.                          4358\n",
       "grab2_num                                                      4354\n",
       "resistance, tonn                                               4317\n",
       "swing_frequency, amount/minute                                 4358\n",
       "crystallizer_movement, mm                                      4358\n",
       "alloy_speed, meter/minute                                      4358\n",
       "water_consumption, liter/minute                                4358\n",
       "water_temperature_delta, Celsius deg.                          4358\n",
       "water_consumption_secondary_cooling_zone_num1, liter/minute    4358\n",
       "water_consumption_secondary_cooling_zone_num2, liter/minute    4358\n",
       "water_consumption_secondary_cooling_zone_num3, liter/minute    4358\n",
       "kind                                                           3664\n",
       "quantity, tonn                                                 3664\n",
       "time_temperature_measurement1                                  4358\n",
       "temperature_measurement1, Celsius deg.                         4351\n",
       "time_temperature_measurement2                                  4358\n",
       "temperature_measurement2, Celsius deg.                         4351\n",
       "sample_time_continuous_caster                                  4358\n",
       "Ce, %                                                          3513\n",
       "C, %                                                           4358\n",
       "Si, %                                                          4358\n",
       "Mn,%                                                           4358\n",
       "S, %                                                           4358\n",
       "P, %                                                           4358\n",
       "Cr, %                                                          4358\n",
       "Ni, %                                                          4358\n",
       "Cu, %                                                          4358\n",
       "As, %                                                          4352\n",
       "Mo, %                                                          4346\n",
       "Nb, %                                                          4352\n",
       "Sn, %                                                           566\n",
       "Ti, %                                                          4352\n",
       "V, %                                                           4358\n",
       "Al, %                                                          4358\n",
       "Ca, %                                                          4358\n",
       "N, %                                                           4358\n",
       "Pb, %                                                          4358\n",
       "Mg, %                                                          4358\n",
       "Zn, %                                                          4358\n",
       "sleeve                                                         4358\n",
       "num_crystallizer                                               4358\n",
       "num_stream                                                     4358\n",
       "RUL                                                            4317\n",
       "dtype: int64"
      ]
     },
     "execution_count": 42,
     "metadata": {},
     "output_type": "execute_result"
    }
   ],
   "execution_count": 42
  },
  {
   "metadata": {
    "ExecuteTime": {
     "end_time": "2025-05-07T13:25:31.278980Z",
     "start_time": "2025-05-07T13:25:31.275253Z"
    }
   },
   "cell_type": "code",
   "source": "mask.sum()",
   "id": "8f9634e854792e96",
   "outputs": [
    {
     "data": {
      "text/plain": [
       "np.int64(4358)"
      ]
     },
     "execution_count": 44,
     "metadata": {},
     "output_type": "execute_result"
    }
   ],
   "execution_count": 44
  },
  {
   "metadata": {
    "ExecuteTime": {
     "end_time": "2025-05-07T13:25:46.403287Z",
     "start_time": "2025-05-07T13:25:46.397331Z"
    }
   },
   "cell_type": "code",
   "source": "df[mask].shape[0]",
   "id": "1dbd6991d2bec65e",
   "outputs": [
    {
     "data": {
      "text/plain": [
       "4358"
      ]
     },
     "execution_count": 45,
     "metadata": {},
     "output_type": "execute_result"
    }
   ],
   "execution_count": 45
  },
  {
   "metadata": {},
   "cell_type": "markdown",
   "source": [
    "### What Carbon Percentage (`C, %`) Indicates in Steel Manufacturing\n",
    "\n",
    "* Carbon is a **critical alloying element** in steel that affects:\n",
    "\n",
    "  * **Hardness and strength** (higher carbon → harder, stronger steel)\n",
    "  * **Ductility and weldability** (higher carbon → more brittle, less weldable)\n",
    "* Different **steel grades** require **precise carbon control** within narrow specifications.\n",
    "* Deviations outside target ranges can lead to **non-conformances, waste, or product rejection**.\n",
    "\n",
    "\n",
    "### So What Does This Result Tell Us?\n",
    "\n",
    "> **4,358 records (≈ 25%) have unusually high carbon content** relative to the rest of the dataset.\n",
    "\n",
    "This may imply any of the following:\n",
    "\n",
    "\n",
    "\n",
    "### Interpretation for the Process\n",
    "\n",
    "#### 1. **Intentional High-Carbon Products**\n",
    "\n",
    "* If certain products (e.g. tool steels, high-strength steels) require high carbon, these entries may reflect:\n",
    "\n",
    "  * A **specific batch type or alloy type**.\n",
    "  * Compliance with **specialized specifications**.\n",
    "\n",
    "**Action**: Group by `steel_type` or `doc_requirement` and verify if high-carbon records correspond to expected product types.\n",
    "\n",
    "\n",
    "\n",
    "#### 2. **Process Variability or Drift**\n",
    "\n",
    "* If most products are meant to stay within a narrow carbon range (e.g. structural steel), this top 25% could indicate:\n",
    "\n",
    "  * **Process drift**\n",
    "  * **Improper deoxidation or alloy feeding**\n",
    "  * **Inconsistent melting or ladle practices**\n",
    "\n",
    "**Action**: Check temporal trends or operators — are high-carbon batches clustered in time or by equipment?\n",
    "\n",
    "\n",
    "\n",
    "#### 3. **Potential Quality Risk**\n",
    "\n",
    "* If excess carbon is **not allowed** in some specs, these 4,358 records may violate compliance.\n",
    "\n",
    "**Action**: Cross-check if these values exceed spec limits using `doc_requirement`.\n",
    "\n",
    "\n",
    "\n",
    "### Final Insight\n",
    "\n",
    "> **Knowing which batches fall in the top 25% carbon range allows process engineers to trace potential risks or confirm product specialization**.\n",
    "\n"
   ],
   "id": "6217f32fe92bf3a"
  },
  {
   "metadata": {},
   "cell_type": "markdown",
   "source": "8. Identify the interquartile range (IQR) of `Mn,%`.",
   "id": "3e76e5cea546061c"
  },
  {
   "metadata": {
    "ExecuteTime": {
     "end_time": "2025-05-07T13:35:55.477348Z",
     "start_time": "2025-05-07T13:35:55.472825Z"
    }
   },
   "cell_type": "code",
   "source": "IQR = df['Mn,%'].quantile(0.75) - df['Mn,%'].quantile(0.25)",
   "id": "2dff40eb89c8464e",
   "outputs": [],
   "execution_count": 46
  },
  {
   "metadata": {
    "ExecuteTime": {
     "end_time": "2025-05-07T13:35:59.471651Z",
     "start_time": "2025-05-07T13:35:59.468242Z"
    }
   },
   "cell_type": "code",
   "source": "IQR",
   "id": "e77ac15f1392f504",
   "outputs": [
    {
     "data": {
      "text/plain": [
       "np.float64(0.48030000000000006)"
      ]
     },
     "execution_count": 47,
     "metadata": {},
     "output_type": "execute_result"
    }
   ],
   "execution_count": 47
  },
  {
   "metadata": {
    "ExecuteTime": {
     "end_time": "2025-05-07T13:38:27.335419Z",
     "start_time": "2025-05-07T13:38:27.329767Z"
    }
   },
   "cell_type": "code",
   "source": [
    "# identify outliers in Mn, % using IQR\n",
    "lower_bound = df['Mn,%'].quantile(0.25) - 1.5 * IQR\n",
    "upper_bound = df['Mn,%'].quantile(0.75) + 1.5 * IQR"
   ],
   "id": "3f071506da306b98",
   "outputs": [],
   "execution_count": 48
  },
  {
   "metadata": {
    "ExecuteTime": {
     "end_time": "2025-05-07T13:39:25.645616Z",
     "start_time": "2025-05-07T13:39:25.641351Z"
    }
   },
   "cell_type": "code",
   "source": "outliers = df[(df['Mn,%'] < lower_bound) | (df['Mn,%'] > upper_bound)]",
   "id": "3fa844d500ec0fe4",
   "outputs": [],
   "execution_count": 49
  },
  {
   "metadata": {
    "ExecuteTime": {
     "end_time": "2025-05-07T13:40:47.144327Z",
     "start_time": "2025-05-07T13:40:47.140759Z"
    }
   },
   "cell_type": "code",
   "source": "outliers.shape[0]",
   "id": "4f8642d6f70f3116",
   "outputs": [
    {
     "data": {
      "text/plain": [
       "0"
      ]
     },
     "execution_count": 53,
     "metadata": {},
     "output_type": "execute_result"
    }
   ],
   "execution_count": 53
  },
  {
   "metadata": {},
   "cell_type": "markdown",
   "source": [
    "###  Interpretation:\n",
    "The IQR of Mn,% is approximately 0.4803.\n",
    "\n",
    "This tells that the middle 50% of manganese content in dataset lies within a 0.48% range, which is:\n",
    "\n",
    "Relatively tight → good for process control\n",
    "\n",
    "Reflects consistent alloying practice, unless product variation demands different manganese levels"
   ],
   "id": "665c95f385597b90"
  },
  {
   "metadata": {},
   "cell_type": "markdown",
   "source": [
    "### Part 3: Value Counts & Membership\n",
    "\n",
    "9. Count how many unique `steel_type` values exist."
   ],
   "id": "8894c78f8748db2d"
  },
  {
   "metadata": {
    "ExecuteTime": {
     "end_time": "2025-05-07T13:43:40.326518Z",
     "start_time": "2025-05-07T13:43:40.323177Z"
    }
   },
   "cell_type": "code",
   "source": "steel_type_unique = df['steel_type'].unique()",
   "id": "1ab66e76365b318a",
   "outputs": [],
   "execution_count": 55
  },
  {
   "metadata": {
    "ExecuteTime": {
     "end_time": "2025-05-07T13:44:04.682073Z",
     "start_time": "2025-05-07T13:44:04.678492Z"
    }
   },
   "cell_type": "code",
   "source": "steel_type_unique.shape[0]",
   "id": "1f7a5e4809a42c6b",
   "outputs": [
    {
     "data": {
      "text/plain": [
       "12"
      ]
     },
     "execution_count": 56,
     "metadata": {},
     "output_type": "execute_result"
    }
   ],
   "execution_count": 56
  },
  {
   "metadata": {
    "ExecuteTime": {
     "end_time": "2025-05-07T13:45:37.247656Z",
     "start_time": "2025-05-07T13:45:37.244470Z"
    }
   },
   "cell_type": "code",
   "source": "steel_type_unique",
   "id": "55164ab072ccf019",
   "outputs": [
    {
     "data": {
      "text/plain": [
       "array(['Arm240', 'St3sp', 'Arm500', '1015', 'V500V', '1008', '25G2S',\n",
       "       'YP', '1018', 'St4sp', '20', '1010'], dtype=object)"
      ]
     },
     "execution_count": 61,
     "metadata": {},
     "output_type": "execute_result"
    }
   ],
   "execution_count": 61
  },
  {
   "metadata": {},
   "cell_type": "markdown",
   "source": [
    "### Interpretation:\n",
    "There are 12 different steel types in the dataset. This suggests:\n",
    "\n",
    "There is a diverse product line.\n",
    "\n",
    "steel_type is likely a key categorical feature for grouping, profiling, or stratified analysis."
   ],
   "id": "9433626ac3bb3f94"
  },
  {
   "metadata": {},
   "cell_type": "markdown",
   "source": "10. List the 5 most frequent values in `alloy_type`.",
   "id": "6d73ad07e7164438"
  },
  {
   "metadata": {
    "ExecuteTime": {
     "end_time": "2025-05-07T13:49:15.827335Z",
     "start_time": "2025-05-07T13:49:15.823852Z"
    }
   },
   "cell_type": "code",
   "source": "alloy_type_most_frequent_values = df['alloy_type'].value_counts()",
   "id": "46b0451b60d494d4",
   "outputs": [],
   "execution_count": 62
  },
  {
   "metadata": {
    "ExecuteTime": {
     "end_time": "2025-05-07T13:50:50.882568Z",
     "start_time": "2025-05-07T13:50:50.877042Z"
    }
   },
   "cell_type": "code",
   "source": "alloy_type_most_frequent_values.head(5)",
   "id": "a10b874d53304a17",
   "outputs": [
    {
     "data": {
      "text/plain": [
       "alloy_type\n",
       "open     17315\n",
       "close      188\n",
       "Name: count, dtype: int64"
      ]
     },
     "execution_count": 64,
     "metadata": {},
     "output_type": "execute_result"
    }
   ],
   "execution_count": 64
  },
  {
   "metadata": {},
   "cell_type": "markdown",
   "source": [
    "## What Do `open` and `close` Mean in Alloying?\n",
    "\n",
    "These terms refer to the **state of the alloying system** during steel production — particularly how **alloying elements are introduced** and **how the system is controlled**:\n",
    "\n",
    "\n",
    "\n",
    "### `open` alloying:\n",
    "\n",
    "* The system is **exposed to the atmosphere** or only partially enclosed.\n",
    "* Alloys (e.g., carbon, manganese, chromium) are added **in ladles or tundish** with less control over oxidation.\n",
    "* Often used for:\n",
    "\n",
    "  * **Standard structural steels**\n",
    "  * **Bulk production**\n",
    "  * **Less expensive, less sensitive alloys**\n",
    "* Easier to manage, cheaper, but **more susceptible to minor compositional deviations** due to oxidation or heat loss.\n",
    "\n",
    "\n",
    "\n",
    "### `close` alloying:\n",
    "\n",
    "* The system is **sealed or controlled**, sometimes under inert gas (e.g., argon) or vacuum.\n",
    "* Alloying is more **precise**, used when exact chemical composition is critical.\n",
    "* Common in:\n",
    "\n",
    "  * **High-grade steel production**\n",
    "  * **Tool steels**\n",
    "  * **Aerospace or automotive applications**\n",
    "* More expensive, slower, but ensures **tighter quality control**.\n",
    "\n",
    "\n",
    "\n",
    "## Interpretation for the Process\n",
    "\n",
    "Given that:\n",
    "\n",
    "* `open`: **17,315 entries**\n",
    "* `close`: **188 entries**\n",
    "\n",
    "\n",
    "\n",
    "### Process Insights:\n",
    "\n",
    "| Type  | Meaning                            | Use Case                     | Interpretation from Data                                                                            |\n",
    "| ----- | ---------------------------------- | ---------------------------- |-----------------------------------------------------------------------------------------------------|\n",
    "| open  | Standard, cost-effective alloying  | Mass production              | Dominates dataset (≈99%) — indicates high process standardization and possibly less precision demand. |\n",
    "| close | Sealed/controlled alloying process | High-quality, special alloys | Rare (≈1%) — suggests niche product types, tight specs, or legacy/special runs.                     |\n",
    "\n",
    "\n",
    "\n",
    "## Strategic Takeaways:\n",
    "\n",
    "* **Process Control**: Standardized around `open`, optimizing for throughput and cost — good for structural grades.\n",
    "* **Rare but Critical**: `close` is likely used where **chemical precision matters**. It’s worth profiling:\n",
    "\n",
    "  * Do `close` records align with certain `steel_type`?\n",
    "  * Do they have **lower RUL** (suggesting specialty life cycle needs)?\n",
    "  * Are they tied to specific dates, shifts, or suppliers?"
   ],
   "id": "72517c01f772cdcc"
  },
  {
   "metadata": {},
   "cell_type": "markdown",
   "source": "11. How many times does the `doc_requirement` appear as \"T1\"?",
   "id": "439b7e942a2f447a"
  },
  {
   "metadata": {
    "ExecuteTime": {
     "end_time": "2025-05-07T14:04:29.189480Z",
     "start_time": "2025-05-07T14:04:29.186256Z"
    }
   },
   "cell_type": "code",
   "source": "t1_occurrence = (df['doc_requirement'] == 'T1').sum()",
   "id": "7120efa61969015e",
   "outputs": [],
   "execution_count": 84
  },
  {
   "metadata": {
    "ExecuteTime": {
     "end_time": "2025-05-07T14:04:30.283474Z",
     "start_time": "2025-05-07T14:04:30.278908Z"
    }
   },
   "cell_type": "code",
   "source": "t1_occurrence",
   "id": "448e9a4c39623453",
   "outputs": [
    {
     "data": {
      "text/plain": [
       "np.int64(0)"
      ]
     },
     "execution_count": 85,
     "metadata": {},
     "output_type": "execute_result"
    }
   ],
   "execution_count": 85
  },
  {
   "metadata": {
    "ExecuteTime": {
     "end_time": "2025-05-07T14:05:19.885820Z",
     "start_time": "2025-05-07T14:05:19.882115Z"
    }
   },
   "cell_type": "code",
   "source": [
    "# alternative\n",
    "t1_occurrence = df['doc_requirement'].value_counts().get('T1', 0)"
   ],
   "id": "53bbd495a25a6e43",
   "outputs": [],
   "execution_count": 86
  },
  {
   "metadata": {
    "ExecuteTime": {
     "end_time": "2025-05-07T14:05:23.543793Z",
     "start_time": "2025-05-07T14:05:23.540261Z"
    }
   },
   "cell_type": "code",
   "source": "t1_occurrence",
   "id": "5edbbcc635675031",
   "outputs": [
    {
     "data": {
      "text/plain": [
       "0"
      ]
     },
     "execution_count": 87,
     "metadata": {},
     "output_type": "execute_result"
    }
   ],
   "execution_count": 87
  },
  {
   "metadata": {
    "ExecuteTime": {
     "end_time": "2025-05-07T14:07:29.788195Z",
     "start_time": "2025-05-07T14:07:29.772906Z"
    }
   },
   "cell_type": "code",
   "source": "df['doc_requirement'].unique()",
   "id": "542c2249f5e9dbfb",
   "outputs": [
    {
     "data": {
      "text/plain": [
       "array(['DOC 34028-2016', 'Contract', 'ASTM A510/A510M-18', 'DIN 488-2009',\n",
       "       'ASTM A510/A510М-18 / Contract', 'DOC 5781-82',\n",
       "       'ТУ 24.10.61-022-24688283-2020', 'DOC 380-2005', 'DOC 10702-2016',\n",
       "       'ASTM/Contract 4.13.2'], dtype=object)"
      ]
     },
     "execution_count": 88,
     "metadata": {},
     "output_type": "execute_result"
    }
   ],
   "execution_count": 88
  },
  {
   "metadata": {
    "ExecuteTime": {
     "end_time": "2025-05-07T14:07:54.929697Z",
     "start_time": "2025-05-07T14:07:54.924964Z"
    }
   },
   "cell_type": "code",
   "source": "df['doc_requirement'].value_counts()",
   "id": "286fcf555b4eaea6",
   "outputs": [
    {
     "data": {
      "text/plain": [
       "doc_requirement\n",
       "DOC 34028-2016                   13934\n",
       "Contract                          2033\n",
       "ASTM A510/A510M-18                 770\n",
       "DOC 5781-82                        421\n",
       "DOC 380-2005                       123\n",
       "ASTM/Contract 4.13.2                99\n",
       "ТУ 24.10.61-022-24688283-2020       45\n",
       "ASTM A510/A510М-18 / Contract       30\n",
       "DIN 488-2009                        24\n",
       "DOC 10702-2016                      24\n",
       "Name: count, dtype: int64"
      ]
     },
     "execution_count": 89,
     "metadata": {},
     "output_type": "execute_result"
    }
   ],
   "execution_count": 89
  },
  {
   "metadata": {},
   "cell_type": "markdown",
   "source": [
    "### Interpretation:\n",
    "There are zero records in the dataset where doc_requirement == \"T1\".\n",
    "\n",
    "#### What This Say:\n",
    "\"T1\" does not exist in the dataset — at least not spelled exactly that way.\n",
    "\n",
    "The earlier assumption about \"T1\" being a document requirement might be wrong."
   ],
   "id": "e3ae4325411d9880"
  },
  {
   "metadata": {},
   "cell_type": "markdown",
   "source": "12. Filter all rows where `steel_type` is in the top 3 most common types.",
   "id": "f1a5f8508a5b31fd"
  },
  {
   "metadata": {
    "ExecuteTime": {
     "end_time": "2025-05-07T14:12:43.241014Z",
     "start_time": "2025-05-07T14:12:43.236786Z"
    }
   },
   "cell_type": "code",
   "source": "top_3_steel_type = df['steel_type'].value_counts().head(3).index",
   "id": "c80f65d1ab3f3f23",
   "outputs": [],
   "execution_count": 92
  },
  {
   "metadata": {
    "ExecuteTime": {
     "end_time": "2025-05-07T14:15:31.308104Z",
     "start_time": "2025-05-07T14:15:31.304998Z"
    }
   },
   "cell_type": "code",
   "source": "top_3_steel_type",
   "id": "eb54e0f8a0d7da19",
   "outputs": [
    {
     "data": {
      "text/plain": [
       "Index(['Arm500', 'St4sp', 'St3sp'], dtype='object', name='steel_type')"
      ]
     },
     "execution_count": 96,
     "metadata": {},
     "output_type": "execute_result"
    }
   ],
   "execution_count": 96
  },
  {
   "metadata": {
    "ExecuteTime": {
     "end_time": "2025-05-07T14:17:44.555464Z",
     "start_time": "2025-05-07T14:17:44.540512Z"
    }
   },
   "cell_type": "code",
   "source": [
    "# to filter the rows\n",
    "df[df['steel_type'].isin(top_3_steel_type)].head()"
   ],
   "id": "56583f59ec24314b",
   "outputs": [
    {
     "data": {
      "text/plain": [
       "         date  workpiece_weight, tonn steel_type doc_requirement  cast_in_row  \\\n",
       "1  2020-01-05                   165.9      St3sp        Contract           10   \n",
       "3  2020-01-05                   170.1      St3sp        Contract            7   \n",
       "4  2020-01-05                   163.8      St3sp        Contract           12   \n",
       "5  2020-01-05                   163.8      St3sp        Contract           14   \n",
       "8  2020-01-05                   161.7      St3sp        Contract            6   \n",
       "\n",
       "  workpiece_slice_geometry alloy_type  steel_weight_theoretical, tonn  \\\n",
       "1                  150x150       open                           166.3   \n",
       "3                  150x150       open                           170.5   \n",
       "4                  150x150       open                           164.2   \n",
       "5                  150x150       open                           164.2   \n",
       "8                  150x150       open                           162.1   \n",
       "\n",
       "   slag_weight_close_grab1, tonn  metal_residue_grab1, tonn  ...   Al, %  \\\n",
       "1                            1.8                        0.4  ...  0.0028   \n",
       "3                            1.8                        0.4  ...  0.0034   \n",
       "4                            1.8                        0.4  ...  0.0032   \n",
       "5                            1.8                        0.4  ...  0.0043   \n",
       "8                            1.8                        0.4  ...  0.0033   \n",
       "\n",
       "    Ca, %    N, %  Pb, %  Mg, %  Zn, %    sleeve  num_crystallizer  \\\n",
       "1  0.0004  0.0049    0.0    0.0    0.0  30013346                 2   \n",
       "3  0.0005  0.0051    0.0    0.0    0.0  30012261                22   \n",
       "4  0.0004  0.0038    0.0    0.0    0.0  30012261                22   \n",
       "5  0.0005  0.0035    0.0    0.0    0.0  30012261                22   \n",
       "8  0.0011  0.0056    0.0    0.0    0.0  30012261                22   \n",
       "\n",
       "   num_stream     RUL  \n",
       "1           1  1037.0  \n",
       "3           4   300.0  \n",
       "4           4   164.0  \n",
       "5           4   109.0  \n",
       "8           4   327.0  \n",
       "\n",
       "[5 rows x 57 columns]"
      ],
      "text/html": [
       "<div>\n",
       "<style scoped>\n",
       "    .dataframe tbody tr th:only-of-type {\n",
       "        vertical-align: middle;\n",
       "    }\n",
       "\n",
       "    .dataframe tbody tr th {\n",
       "        vertical-align: top;\n",
       "    }\n",
       "\n",
       "    .dataframe thead th {\n",
       "        text-align: right;\n",
       "    }\n",
       "</style>\n",
       "<table border=\"1\" class=\"dataframe\">\n",
       "  <thead>\n",
       "    <tr style=\"text-align: right;\">\n",
       "      <th></th>\n",
       "      <th>date</th>\n",
       "      <th>workpiece_weight, tonn</th>\n",
       "      <th>steel_type</th>\n",
       "      <th>doc_requirement</th>\n",
       "      <th>cast_in_row</th>\n",
       "      <th>workpiece_slice_geometry</th>\n",
       "      <th>alloy_type</th>\n",
       "      <th>steel_weight_theoretical, tonn</th>\n",
       "      <th>slag_weight_close_grab1, tonn</th>\n",
       "      <th>metal_residue_grab1, tonn</th>\n",
       "      <th>...</th>\n",
       "      <th>Al, %</th>\n",
       "      <th>Ca, %</th>\n",
       "      <th>N, %</th>\n",
       "      <th>Pb, %</th>\n",
       "      <th>Mg, %</th>\n",
       "      <th>Zn, %</th>\n",
       "      <th>sleeve</th>\n",
       "      <th>num_crystallizer</th>\n",
       "      <th>num_stream</th>\n",
       "      <th>RUL</th>\n",
       "    </tr>\n",
       "  </thead>\n",
       "  <tbody>\n",
       "    <tr>\n",
       "      <th>1</th>\n",
       "      <td>2020-01-05</td>\n",
       "      <td>165.9</td>\n",
       "      <td>St3sp</td>\n",
       "      <td>Contract</td>\n",
       "      <td>10</td>\n",
       "      <td>150x150</td>\n",
       "      <td>open</td>\n",
       "      <td>166.3</td>\n",
       "      <td>1.8</td>\n",
       "      <td>0.4</td>\n",
       "      <td>...</td>\n",
       "      <td>0.0028</td>\n",
       "      <td>0.0004</td>\n",
       "      <td>0.0049</td>\n",
       "      <td>0.0</td>\n",
       "      <td>0.0</td>\n",
       "      <td>0.0</td>\n",
       "      <td>30013346</td>\n",
       "      <td>2</td>\n",
       "      <td>1</td>\n",
       "      <td>1037.0</td>\n",
       "    </tr>\n",
       "    <tr>\n",
       "      <th>3</th>\n",
       "      <td>2020-01-05</td>\n",
       "      <td>170.1</td>\n",
       "      <td>St3sp</td>\n",
       "      <td>Contract</td>\n",
       "      <td>7</td>\n",
       "      <td>150x150</td>\n",
       "      <td>open</td>\n",
       "      <td>170.5</td>\n",
       "      <td>1.8</td>\n",
       "      <td>0.4</td>\n",
       "      <td>...</td>\n",
       "      <td>0.0034</td>\n",
       "      <td>0.0005</td>\n",
       "      <td>0.0051</td>\n",
       "      <td>0.0</td>\n",
       "      <td>0.0</td>\n",
       "      <td>0.0</td>\n",
       "      <td>30012261</td>\n",
       "      <td>22</td>\n",
       "      <td>4</td>\n",
       "      <td>300.0</td>\n",
       "    </tr>\n",
       "    <tr>\n",
       "      <th>4</th>\n",
       "      <td>2020-01-05</td>\n",
       "      <td>163.8</td>\n",
       "      <td>St3sp</td>\n",
       "      <td>Contract</td>\n",
       "      <td>12</td>\n",
       "      <td>150x150</td>\n",
       "      <td>open</td>\n",
       "      <td>164.2</td>\n",
       "      <td>1.8</td>\n",
       "      <td>0.4</td>\n",
       "      <td>...</td>\n",
       "      <td>0.0032</td>\n",
       "      <td>0.0004</td>\n",
       "      <td>0.0038</td>\n",
       "      <td>0.0</td>\n",
       "      <td>0.0</td>\n",
       "      <td>0.0</td>\n",
       "      <td>30012261</td>\n",
       "      <td>22</td>\n",
       "      <td>4</td>\n",
       "      <td>164.0</td>\n",
       "    </tr>\n",
       "    <tr>\n",
       "      <th>5</th>\n",
       "      <td>2020-01-05</td>\n",
       "      <td>163.8</td>\n",
       "      <td>St3sp</td>\n",
       "      <td>Contract</td>\n",
       "      <td>14</td>\n",
       "      <td>150x150</td>\n",
       "      <td>open</td>\n",
       "      <td>164.2</td>\n",
       "      <td>1.8</td>\n",
       "      <td>0.4</td>\n",
       "      <td>...</td>\n",
       "      <td>0.0043</td>\n",
       "      <td>0.0005</td>\n",
       "      <td>0.0035</td>\n",
       "      <td>0.0</td>\n",
       "      <td>0.0</td>\n",
       "      <td>0.0</td>\n",
       "      <td>30012261</td>\n",
       "      <td>22</td>\n",
       "      <td>4</td>\n",
       "      <td>109.0</td>\n",
       "    </tr>\n",
       "    <tr>\n",
       "      <th>8</th>\n",
       "      <td>2020-01-05</td>\n",
       "      <td>161.7</td>\n",
       "      <td>St3sp</td>\n",
       "      <td>Contract</td>\n",
       "      <td>6</td>\n",
       "      <td>150x150</td>\n",
       "      <td>open</td>\n",
       "      <td>162.1</td>\n",
       "      <td>1.8</td>\n",
       "      <td>0.4</td>\n",
       "      <td>...</td>\n",
       "      <td>0.0033</td>\n",
       "      <td>0.0011</td>\n",
       "      <td>0.0056</td>\n",
       "      <td>0.0</td>\n",
       "      <td>0.0</td>\n",
       "      <td>0.0</td>\n",
       "      <td>30012261</td>\n",
       "      <td>22</td>\n",
       "      <td>4</td>\n",
       "      <td>327.0</td>\n",
       "    </tr>\n",
       "  </tbody>\n",
       "</table>\n",
       "<p>5 rows × 57 columns</p>\n",
       "</div>"
      ]
     },
     "execution_count": 99,
     "metadata": {},
     "output_type": "execute_result"
    }
   ],
   "execution_count": 99
  },
  {
   "metadata": {},
   "cell_type": "markdown",
   "source": [
    "### Interpretation:\n",
    "\n",
    "### 1. **Dominance of 'Arm500'**\n",
    "\n",
    "> `'Arm500'` represents the **majority of steel production** by a large margin.\n",
    "\n",
    "* This type likely corresponds to a **core product line** — such as structural steel or rebar.\n",
    "* Operational parameters (e.g., weight, geometry, alloying method) are likely optimized around it.\n",
    "\n",
    "\n",
    "\n",
    "### 2. **Filtered Data Is Ideal for Profiling**\n",
    "\n",
    "* With these filtered row:\n",
    "\n",
    "  * Compute **average RUL**, **element composition**, or **temperature stats** per steel type.\n",
    "  * Identify **performance variability** among the top products.\n",
    "\n",
    "\n",
    "### Summary Insight:\n",
    "\n",
    "> These top 3 steel types drive most of the production. They are processed in standardized ways (open alloying, consistent dimensions, and contract-based documentation). This group forms a **strong foundation** for modeling quality, predicting RUL, or setting benchmarks."
   ],
   "id": "6a9c872bb6318752"
  },
  {
   "metadata": {},
   "cell_type": "markdown",
   "source": [
    "### Part 4: Ranking and Order\n",
    "\n",
    "13. Assign a rank to `RUL` from highest to lowest using average ranking."
   ],
   "id": "b6e6af3d8bf50dda"
  },
  {
   "metadata": {
    "ExecuteTime": {
     "end_time": "2025-05-07T14:25:43.332982Z",
     "start_time": "2025-05-07T14:25:43.328308Z"
    }
   },
   "cell_type": "code",
   "source": "df['url_rank'] = df['RUL'].rank(method='average', ascending=False)",
   "id": "ed4e913760d9bbc2",
   "outputs": [],
   "execution_count": 104
  },
  {
   "metadata": {
    "ExecuteTime": {
     "end_time": "2025-05-07T14:27:35.243793Z",
     "start_time": "2025-05-07T14:27:35.234898Z"
    }
   },
   "cell_type": "code",
   "source": "df[['date', 'RUL', 'url_rank']].sort_values(by='url_rank').head()",
   "id": "f0f21536e9d611dc",
   "outputs": [
    {
     "data": {
      "text/plain": [
       "            date        RUL  url_rank\n",
       "8084  2020-05-30  8473111.0       2.0\n",
       "7259  2020-05-27  8473111.0       2.0\n",
       "8046  2020-05-30  8473111.0       2.0\n",
       "8112  2020-05-30  8473091.0       4.5\n",
       "8103  2020-05-30  8473091.0       4.5"
      ],
      "text/html": [
       "<div>\n",
       "<style scoped>\n",
       "    .dataframe tbody tr th:only-of-type {\n",
       "        vertical-align: middle;\n",
       "    }\n",
       "\n",
       "    .dataframe tbody tr th {\n",
       "        vertical-align: top;\n",
       "    }\n",
       "\n",
       "    .dataframe thead th {\n",
       "        text-align: right;\n",
       "    }\n",
       "</style>\n",
       "<table border=\"1\" class=\"dataframe\">\n",
       "  <thead>\n",
       "    <tr style=\"text-align: right;\">\n",
       "      <th></th>\n",
       "      <th>date</th>\n",
       "      <th>RUL</th>\n",
       "      <th>url_rank</th>\n",
       "    </tr>\n",
       "  </thead>\n",
       "  <tbody>\n",
       "    <tr>\n",
       "      <th>8084</th>\n",
       "      <td>2020-05-30</td>\n",
       "      <td>8473111.0</td>\n",
       "      <td>2.0</td>\n",
       "    </tr>\n",
       "    <tr>\n",
       "      <th>7259</th>\n",
       "      <td>2020-05-27</td>\n",
       "      <td>8473111.0</td>\n",
       "      <td>2.0</td>\n",
       "    </tr>\n",
       "    <tr>\n",
       "      <th>8046</th>\n",
       "      <td>2020-05-30</td>\n",
       "      <td>8473111.0</td>\n",
       "      <td>2.0</td>\n",
       "    </tr>\n",
       "    <tr>\n",
       "      <th>8112</th>\n",
       "      <td>2020-05-30</td>\n",
       "      <td>8473091.0</td>\n",
       "      <td>4.5</td>\n",
       "    </tr>\n",
       "    <tr>\n",
       "      <th>8103</th>\n",
       "      <td>2020-05-30</td>\n",
       "      <td>8473091.0</td>\n",
       "      <td>4.5</td>\n",
       "    </tr>\n",
       "  </tbody>\n",
       "</table>\n",
       "</div>"
      ]
     },
     "execution_count": 105,
     "metadata": {},
     "output_type": "execute_result"
    }
   ],
   "execution_count": 105
  },
  {
   "metadata": {},
   "cell_type": "markdown",
   "source": [
    "## Statistical Interpretation:\n",
    "\n",
    "* There are **three entries** with the highest `RUL` value of **8,473,111.0**.\n",
    "\n",
    "  * Since they’re tied, each receives the **average rank**:\n",
    "    $(1 + 2 + 3) / 3 = 2.0$\n",
    "* Two more entries with the next highest `RUL` of **8,473,091.0** get:\n",
    "\n",
    "  * $(4 + 5) / 2 = 4.5$\n",
    "\n",
    "This confirms that the ranking used the `\"average\"` method correctly.\n",
    "\n",
    "\n",
    "## Operational Interpretation:\n",
    "\n",
    "> These entries represent the **top-performing steel batches or products** in terms of **Remaining Useful Life**.\n",
    "\n",
    "### What this could mean for the process:\n",
    "\n",
    "* They likely underwent **optimal processing conditions**.\n",
    "* They may belong to a **superior steel type**, or had ideal:\n",
    "\n",
    "  * Alloy composition (`C, %`, `Mn, %`)\n",
    "  * Casting speed / temperature control\n",
    "  * Ladle treatment, or cooling uniformity\n",
    "\n",
    "\n",
    "\n",
    "## Next Steps (Optional):\n",
    "\n",
    "1. **Profile these top-ranked records**:\n",
    "\n",
    "   * What `steel_type` or `alloy_type` are they?\n",
    "   * What was their `temperature_delta`, `cast_in_row`, etc.?\n",
    "\n",
    "2. **Compare to average/bottom-ranked batches**:\n",
    "\n",
    "   * What's different in conditions?\n",
    "   * Are there predictors of high RUL?\n",
    "\n",
    "3. **Visualize**:\n",
    "\n",
    "   * A bar chart of top 10 RUL values with labels and ranks\n",
    "   * Time series trends of high-ranked batches"
   ],
   "id": "cfea590f45dfd9cc"
  },
  {
   "metadata": {},
   "cell_type": "markdown",
   "source": "14. Assign a rank to `RUL` using first occurrence (method=`first`).",
   "id": "3fbee15c2e6a54dd"
  },
  {
   "metadata": {
    "ExecuteTime": {
     "end_time": "2025-05-07T14:38:25.293767Z",
     "start_time": "2025-05-07T14:38:25.289076Z"
    }
   },
   "cell_type": "code",
   "source": "df['new_rul_rank'] = df['RUL'].rank(method='first', ascending=False)",
   "id": "34902ceb910cecd0",
   "outputs": [],
   "execution_count": 113
  },
  {
   "metadata": {
    "ExecuteTime": {
     "end_time": "2025-05-07T14:39:49.577727Z",
     "start_time": "2025-05-07T14:39:49.569874Z"
    }
   },
   "cell_type": "code",
   "source": "df[['steel_type', 'alloy_type', 'RUL', 'new_rul_rank']].sort_values(by='new_rul_rank').head()",
   "id": "c3c694a1fc516beb",
   "outputs": [
    {
     "data": {
      "text/plain": [
       "     steel_type alloy_type        RUL  new_rul_rank\n",
       "7259     Arm500       open  8473111.0           1.0\n",
       "8046       1015       open  8473111.0           2.0\n",
       "8084       1015       open  8473111.0           3.0\n",
       "8103       1015       open  8473091.0           4.0\n",
       "8112       1015       open  8473091.0           5.0"
      ],
      "text/html": [
       "<div>\n",
       "<style scoped>\n",
       "    .dataframe tbody tr th:only-of-type {\n",
       "        vertical-align: middle;\n",
       "    }\n",
       "\n",
       "    .dataframe tbody tr th {\n",
       "        vertical-align: top;\n",
       "    }\n",
       "\n",
       "    .dataframe thead th {\n",
       "        text-align: right;\n",
       "    }\n",
       "</style>\n",
       "<table border=\"1\" class=\"dataframe\">\n",
       "  <thead>\n",
       "    <tr style=\"text-align: right;\">\n",
       "      <th></th>\n",
       "      <th>steel_type</th>\n",
       "      <th>alloy_type</th>\n",
       "      <th>RUL</th>\n",
       "      <th>new_rul_rank</th>\n",
       "    </tr>\n",
       "  </thead>\n",
       "  <tbody>\n",
       "    <tr>\n",
       "      <th>7259</th>\n",
       "      <td>Arm500</td>\n",
       "      <td>open</td>\n",
       "      <td>8473111.0</td>\n",
       "      <td>1.0</td>\n",
       "    </tr>\n",
       "    <tr>\n",
       "      <th>8046</th>\n",
       "      <td>1015</td>\n",
       "      <td>open</td>\n",
       "      <td>8473111.0</td>\n",
       "      <td>2.0</td>\n",
       "    </tr>\n",
       "    <tr>\n",
       "      <th>8084</th>\n",
       "      <td>1015</td>\n",
       "      <td>open</td>\n",
       "      <td>8473111.0</td>\n",
       "      <td>3.0</td>\n",
       "    </tr>\n",
       "    <tr>\n",
       "      <th>8103</th>\n",
       "      <td>1015</td>\n",
       "      <td>open</td>\n",
       "      <td>8473091.0</td>\n",
       "      <td>4.0</td>\n",
       "    </tr>\n",
       "    <tr>\n",
       "      <th>8112</th>\n",
       "      <td>1015</td>\n",
       "      <td>open</td>\n",
       "      <td>8473091.0</td>\n",
       "      <td>5.0</td>\n",
       "    </tr>\n",
       "  </tbody>\n",
       "</table>\n",
       "</div>"
      ]
     },
     "execution_count": 115,
     "metadata": {},
     "output_type": "execute_result"
    }
   ],
   "execution_count": 115
  },
  {
   "metadata": {},
   "cell_type": "markdown",
   "source": [
    "## Interpretation:\n",
    "\n",
    "### 1. `Arm500` Is a Top Performer:\n",
    "\n",
    "* It was the **first entry in the dataset** to reach the **maximum RUL**\n",
    "* Suggests that this steel type (in this instance) is highly durable\n",
    "\n",
    "### 2. `1015` Is Also a Strong Candidate:\n",
    "\n",
    "* Several `1015` batches also reached the same or slightly lower RUL\n",
    "* Indicates that **under similar conditions**, it may match or approach the performance of `Arm500`\n",
    "\n",
    "### 3. `alloy_type = open`:\n",
    "\n",
    "* All top entries use `open` alloying\n",
    "* This might suggest that **open alloying is favorable** for achieving high RUL in the process\n",
    "\n",
    "\n",
    "\n",
    "## Operational Insight:\n",
    "\n",
    "> This ranking can be used to **profile best-performing material batches**, identify **repeatable high-quality configurations**, or feed into **predictive models** (e.g., predicting RUL based on steel type + process variables)."
   ],
   "id": "38ed132e3f51dbb5"
  },
  {
   "metadata": {},
   "cell_type": "markdown",
   "source": "15. Find the record with the top 5 lowest `resistance, tonn` values.",
   "id": "367c39cfecd3c348"
  },
  {
   "metadata": {
    "ExecuteTime": {
     "end_time": "2025-05-07T14:51:15.381281Z",
     "start_time": "2025-05-07T14:51:15.364081Z"
    }
   },
   "cell_type": "code",
   "source": "df.sort_values(by='resistance, tonn').head(5)",
   "id": "67c4f0e77d6684fb",
   "outputs": [
    {
     "data": {
      "text/plain": [
       "             date  workpiece_weight, tonn steel_type     doc_requirement  \\\n",
       "8046   2020-05-30                 159.264       1015  ASTM A510/A510M-18   \n",
       "7259   2020-05-27                 160.272     Arm500      DOC 34028-2016   \n",
       "7255   2020-05-27                 160.272     Arm500      DOC 34028-2016   \n",
       "8084   2020-05-30                 159.264       1015  ASTM A510/A510M-18   \n",
       "13468  2020-07-26                 153.600     Arm500      DOC 34028-2016   \n",
       "\n",
       "       cast_in_row workpiece_slice_geometry alloy_type  \\\n",
       "8046             4                  180x180       open   \n",
       "7259             1                  180x180       open   \n",
       "7255             1                  180x180       open   \n",
       "8084             4                  180x180       open   \n",
       "13468            1                  180x180       open   \n",
       "\n",
       "       steel_weight_theoretical, tonn  slag_weight_close_grab1, tonn  \\\n",
       "8046                          159.864                            1.8   \n",
       "7259                          161.572                            1.8   \n",
       "7255                          161.572                            1.8   \n",
       "8084                          159.864                            1.8   \n",
       "13468                         155.238                            1.8   \n",
       "\n",
       "       metal_residue_grab1, tonn  ...    N, %   Pb, %   Mg, %   Zn, %  \\\n",
       "8046                         0.4  ...  0.0066  0.0000  0.0000  0.0000   \n",
       "7259                         0.4  ...  0.0038  0.0000  0.0000  0.0000   \n",
       "7255                         0.4  ...  0.0038  0.0000  0.0000  0.0000   \n",
       "8084                         0.4  ...  0.0066  0.0000  0.0000  0.0000   \n",
       "13468                        0.4  ...  0.0078  0.0032  0.0001  0.0018   \n",
       "\n",
       "         sleeve  num_crystallizer  num_stream        RUL  url_rank  \\\n",
       "8046   30014143                11           6  8473111.0       2.0   \n",
       "7259   30013876                18           6  8473111.0       2.0   \n",
       "7255   30014193                 6           6     8928.0    3539.5   \n",
       "8084   30013876                18           6  8473111.0       2.0   \n",
       "13468  30014804                11           5    12551.0    1287.0   \n",
       "\n",
       "       new_rul_rank  \n",
       "8046            2.0  \n",
       "7259            1.0  \n",
       "7255         3540.0  \n",
       "8084            3.0  \n",
       "13468        1287.0  \n",
       "\n",
       "[5 rows x 59 columns]"
      ],
      "text/html": [
       "<div>\n",
       "<style scoped>\n",
       "    .dataframe tbody tr th:only-of-type {\n",
       "        vertical-align: middle;\n",
       "    }\n",
       "\n",
       "    .dataframe tbody tr th {\n",
       "        vertical-align: top;\n",
       "    }\n",
       "\n",
       "    .dataframe thead th {\n",
       "        text-align: right;\n",
       "    }\n",
       "</style>\n",
       "<table border=\"1\" class=\"dataframe\">\n",
       "  <thead>\n",
       "    <tr style=\"text-align: right;\">\n",
       "      <th></th>\n",
       "      <th>date</th>\n",
       "      <th>workpiece_weight, tonn</th>\n",
       "      <th>steel_type</th>\n",
       "      <th>doc_requirement</th>\n",
       "      <th>cast_in_row</th>\n",
       "      <th>workpiece_slice_geometry</th>\n",
       "      <th>alloy_type</th>\n",
       "      <th>steel_weight_theoretical, tonn</th>\n",
       "      <th>slag_weight_close_grab1, tonn</th>\n",
       "      <th>metal_residue_grab1, tonn</th>\n",
       "      <th>...</th>\n",
       "      <th>N, %</th>\n",
       "      <th>Pb, %</th>\n",
       "      <th>Mg, %</th>\n",
       "      <th>Zn, %</th>\n",
       "      <th>sleeve</th>\n",
       "      <th>num_crystallizer</th>\n",
       "      <th>num_stream</th>\n",
       "      <th>RUL</th>\n",
       "      <th>url_rank</th>\n",
       "      <th>new_rul_rank</th>\n",
       "    </tr>\n",
       "  </thead>\n",
       "  <tbody>\n",
       "    <tr>\n",
       "      <th>8046</th>\n",
       "      <td>2020-05-30</td>\n",
       "      <td>159.264</td>\n",
       "      <td>1015</td>\n",
       "      <td>ASTM A510/A510M-18</td>\n",
       "      <td>4</td>\n",
       "      <td>180x180</td>\n",
       "      <td>open</td>\n",
       "      <td>159.864</td>\n",
       "      <td>1.8</td>\n",
       "      <td>0.4</td>\n",
       "      <td>...</td>\n",
       "      <td>0.0066</td>\n",
       "      <td>0.0000</td>\n",
       "      <td>0.0000</td>\n",
       "      <td>0.0000</td>\n",
       "      <td>30014143</td>\n",
       "      <td>11</td>\n",
       "      <td>6</td>\n",
       "      <td>8473111.0</td>\n",
       "      <td>2.0</td>\n",
       "      <td>2.0</td>\n",
       "    </tr>\n",
       "    <tr>\n",
       "      <th>7259</th>\n",
       "      <td>2020-05-27</td>\n",
       "      <td>160.272</td>\n",
       "      <td>Arm500</td>\n",
       "      <td>DOC 34028-2016</td>\n",
       "      <td>1</td>\n",
       "      <td>180x180</td>\n",
       "      <td>open</td>\n",
       "      <td>161.572</td>\n",
       "      <td>1.8</td>\n",
       "      <td>0.4</td>\n",
       "      <td>...</td>\n",
       "      <td>0.0038</td>\n",
       "      <td>0.0000</td>\n",
       "      <td>0.0000</td>\n",
       "      <td>0.0000</td>\n",
       "      <td>30013876</td>\n",
       "      <td>18</td>\n",
       "      <td>6</td>\n",
       "      <td>8473111.0</td>\n",
       "      <td>2.0</td>\n",
       "      <td>1.0</td>\n",
       "    </tr>\n",
       "    <tr>\n",
       "      <th>7255</th>\n",
       "      <td>2020-05-27</td>\n",
       "      <td>160.272</td>\n",
       "      <td>Arm500</td>\n",
       "      <td>DOC 34028-2016</td>\n",
       "      <td>1</td>\n",
       "      <td>180x180</td>\n",
       "      <td>open</td>\n",
       "      <td>161.572</td>\n",
       "      <td>1.8</td>\n",
       "      <td>0.4</td>\n",
       "      <td>...</td>\n",
       "      <td>0.0038</td>\n",
       "      <td>0.0000</td>\n",
       "      <td>0.0000</td>\n",
       "      <td>0.0000</td>\n",
       "      <td>30014193</td>\n",
       "      <td>6</td>\n",
       "      <td>6</td>\n",
       "      <td>8928.0</td>\n",
       "      <td>3539.5</td>\n",
       "      <td>3540.0</td>\n",
       "    </tr>\n",
       "    <tr>\n",
       "      <th>8084</th>\n",
       "      <td>2020-05-30</td>\n",
       "      <td>159.264</td>\n",
       "      <td>1015</td>\n",
       "      <td>ASTM A510/A510M-18</td>\n",
       "      <td>4</td>\n",
       "      <td>180x180</td>\n",
       "      <td>open</td>\n",
       "      <td>159.864</td>\n",
       "      <td>1.8</td>\n",
       "      <td>0.4</td>\n",
       "      <td>...</td>\n",
       "      <td>0.0066</td>\n",
       "      <td>0.0000</td>\n",
       "      <td>0.0000</td>\n",
       "      <td>0.0000</td>\n",
       "      <td>30013876</td>\n",
       "      <td>18</td>\n",
       "      <td>6</td>\n",
       "      <td>8473111.0</td>\n",
       "      <td>2.0</td>\n",
       "      <td>3.0</td>\n",
       "    </tr>\n",
       "    <tr>\n",
       "      <th>13468</th>\n",
       "      <td>2020-07-26</td>\n",
       "      <td>153.600</td>\n",
       "      <td>Arm500</td>\n",
       "      <td>DOC 34028-2016</td>\n",
       "      <td>1</td>\n",
       "      <td>180x180</td>\n",
       "      <td>open</td>\n",
       "      <td>155.238</td>\n",
       "      <td>1.8</td>\n",
       "      <td>0.4</td>\n",
       "      <td>...</td>\n",
       "      <td>0.0078</td>\n",
       "      <td>0.0032</td>\n",
       "      <td>0.0001</td>\n",
       "      <td>0.0018</td>\n",
       "      <td>30014804</td>\n",
       "      <td>11</td>\n",
       "      <td>5</td>\n",
       "      <td>12551.0</td>\n",
       "      <td>1287.0</td>\n",
       "      <td>1287.0</td>\n",
       "    </tr>\n",
       "  </tbody>\n",
       "</table>\n",
       "<p>5 rows × 59 columns</p>\n",
       "</div>"
      ]
     },
     "execution_count": 127,
     "metadata": {},
     "output_type": "execute_result"
    }
   ],
   "execution_count": 127
  },
  {
   "metadata": {
    "ExecuteTime": {
     "end_time": "2025-05-07T14:58:20.197115Z",
     "start_time": "2025-05-07T14:58:20.192396Z"
    }
   },
   "cell_type": "code",
   "source": [
    "# alternative with rank\n",
    "df['resistance_rank'] = df['resistance, tonn'].rank(method='first', ascending=True)"
   ],
   "id": "b2e7f5e74de181ca",
   "outputs": [],
   "execution_count": 130
  },
  {
   "metadata": {
    "ExecuteTime": {
     "end_time": "2025-05-07T14:58:20.751820Z",
     "start_time": "2025-05-07T14:58:20.740289Z"
    }
   },
   "cell_type": "code",
   "source": [
    "# top 5 resistance row\n",
    "df[df['resistance_rank'] <= 5]"
   ],
   "id": "823ac2936235721f",
   "outputs": [
    {
     "data": {
      "text/plain": [
       "            date  workpiece_weight, tonn steel_type     doc_requirement  \\\n",
       "2624  2020-04-08                 147.456     Arm500      DOC 34028-2016   \n",
       "7255  2020-05-27                 160.272     Arm500      DOC 34028-2016   \n",
       "7259  2020-05-27                 160.272     Arm500      DOC 34028-2016   \n",
       "8046  2020-05-30                 159.264       1015  ASTM A510/A510M-18   \n",
       "8084  2020-05-30                 159.264       1015  ASTM A510/A510M-18   \n",
       "\n",
       "      cast_in_row workpiece_slice_geometry alloy_type  \\\n",
       "2624            1                  180x180       open   \n",
       "7255            1                  180x180       open   \n",
       "7259            1                  180x180       open   \n",
       "8046            4                  180x180       open   \n",
       "8084            4                  180x180       open   \n",
       "\n",
       "      steel_weight_theoretical, tonn  slag_weight_close_grab1, tonn  \\\n",
       "2624                         149.100                            1.8   \n",
       "7255                         161.572                            1.8   \n",
       "7259                         161.572                            1.8   \n",
       "8046                         159.864                            1.8   \n",
       "8084                         159.864                            1.8   \n",
       "\n",
       "      metal_residue_grab1, tonn  ...   Pb, %   Mg, %   Zn, %    sleeve  \\\n",
       "2624                        0.4  ...  0.0028  0.0001  0.0019  30014083   \n",
       "7255                        0.4  ...  0.0000  0.0000  0.0000  30014193   \n",
       "7259                        0.4  ...  0.0000  0.0000  0.0000  30013876   \n",
       "8046                        0.4  ...  0.0000  0.0000  0.0000  30014143   \n",
       "8084                        0.4  ...  0.0000  0.0000  0.0000  30013876   \n",
       "\n",
       "      num_crystallizer  num_stream        RUL  url_rank  new_rul_rank  \\\n",
       "2624                23           4    11628.0    1578.0        1578.0   \n",
       "7255                 6           6     8928.0    3539.5        3540.0   \n",
       "7259                18           6  8473111.0       2.0           1.0   \n",
       "8046                11           6  8473111.0       2.0           2.0   \n",
       "8084                18           6  8473111.0       2.0           3.0   \n",
       "\n",
       "      resistance_rank  \n",
       "2624              5.0  \n",
       "7255              1.0  \n",
       "7259              2.0  \n",
       "8046              3.0  \n",
       "8084              4.0  \n",
       "\n",
       "[5 rows x 60 columns]"
      ],
      "text/html": [
       "<div>\n",
       "<style scoped>\n",
       "    .dataframe tbody tr th:only-of-type {\n",
       "        vertical-align: middle;\n",
       "    }\n",
       "\n",
       "    .dataframe tbody tr th {\n",
       "        vertical-align: top;\n",
       "    }\n",
       "\n",
       "    .dataframe thead th {\n",
       "        text-align: right;\n",
       "    }\n",
       "</style>\n",
       "<table border=\"1\" class=\"dataframe\">\n",
       "  <thead>\n",
       "    <tr style=\"text-align: right;\">\n",
       "      <th></th>\n",
       "      <th>date</th>\n",
       "      <th>workpiece_weight, tonn</th>\n",
       "      <th>steel_type</th>\n",
       "      <th>doc_requirement</th>\n",
       "      <th>cast_in_row</th>\n",
       "      <th>workpiece_slice_geometry</th>\n",
       "      <th>alloy_type</th>\n",
       "      <th>steel_weight_theoretical, tonn</th>\n",
       "      <th>slag_weight_close_grab1, tonn</th>\n",
       "      <th>metal_residue_grab1, tonn</th>\n",
       "      <th>...</th>\n",
       "      <th>Pb, %</th>\n",
       "      <th>Mg, %</th>\n",
       "      <th>Zn, %</th>\n",
       "      <th>sleeve</th>\n",
       "      <th>num_crystallizer</th>\n",
       "      <th>num_stream</th>\n",
       "      <th>RUL</th>\n",
       "      <th>url_rank</th>\n",
       "      <th>new_rul_rank</th>\n",
       "      <th>resistance_rank</th>\n",
       "    </tr>\n",
       "  </thead>\n",
       "  <tbody>\n",
       "    <tr>\n",
       "      <th>2624</th>\n",
       "      <td>2020-04-08</td>\n",
       "      <td>147.456</td>\n",
       "      <td>Arm500</td>\n",
       "      <td>DOC 34028-2016</td>\n",
       "      <td>1</td>\n",
       "      <td>180x180</td>\n",
       "      <td>open</td>\n",
       "      <td>149.100</td>\n",
       "      <td>1.8</td>\n",
       "      <td>0.4</td>\n",
       "      <td>...</td>\n",
       "      <td>0.0028</td>\n",
       "      <td>0.0001</td>\n",
       "      <td>0.0019</td>\n",
       "      <td>30014083</td>\n",
       "      <td>23</td>\n",
       "      <td>4</td>\n",
       "      <td>11628.0</td>\n",
       "      <td>1578.0</td>\n",
       "      <td>1578.0</td>\n",
       "      <td>5.0</td>\n",
       "    </tr>\n",
       "    <tr>\n",
       "      <th>7255</th>\n",
       "      <td>2020-05-27</td>\n",
       "      <td>160.272</td>\n",
       "      <td>Arm500</td>\n",
       "      <td>DOC 34028-2016</td>\n",
       "      <td>1</td>\n",
       "      <td>180x180</td>\n",
       "      <td>open</td>\n",
       "      <td>161.572</td>\n",
       "      <td>1.8</td>\n",
       "      <td>0.4</td>\n",
       "      <td>...</td>\n",
       "      <td>0.0000</td>\n",
       "      <td>0.0000</td>\n",
       "      <td>0.0000</td>\n",
       "      <td>30014193</td>\n",
       "      <td>6</td>\n",
       "      <td>6</td>\n",
       "      <td>8928.0</td>\n",
       "      <td>3539.5</td>\n",
       "      <td>3540.0</td>\n",
       "      <td>1.0</td>\n",
       "    </tr>\n",
       "    <tr>\n",
       "      <th>7259</th>\n",
       "      <td>2020-05-27</td>\n",
       "      <td>160.272</td>\n",
       "      <td>Arm500</td>\n",
       "      <td>DOC 34028-2016</td>\n",
       "      <td>1</td>\n",
       "      <td>180x180</td>\n",
       "      <td>open</td>\n",
       "      <td>161.572</td>\n",
       "      <td>1.8</td>\n",
       "      <td>0.4</td>\n",
       "      <td>...</td>\n",
       "      <td>0.0000</td>\n",
       "      <td>0.0000</td>\n",
       "      <td>0.0000</td>\n",
       "      <td>30013876</td>\n",
       "      <td>18</td>\n",
       "      <td>6</td>\n",
       "      <td>8473111.0</td>\n",
       "      <td>2.0</td>\n",
       "      <td>1.0</td>\n",
       "      <td>2.0</td>\n",
       "    </tr>\n",
       "    <tr>\n",
       "      <th>8046</th>\n",
       "      <td>2020-05-30</td>\n",
       "      <td>159.264</td>\n",
       "      <td>1015</td>\n",
       "      <td>ASTM A510/A510M-18</td>\n",
       "      <td>4</td>\n",
       "      <td>180x180</td>\n",
       "      <td>open</td>\n",
       "      <td>159.864</td>\n",
       "      <td>1.8</td>\n",
       "      <td>0.4</td>\n",
       "      <td>...</td>\n",
       "      <td>0.0000</td>\n",
       "      <td>0.0000</td>\n",
       "      <td>0.0000</td>\n",
       "      <td>30014143</td>\n",
       "      <td>11</td>\n",
       "      <td>6</td>\n",
       "      <td>8473111.0</td>\n",
       "      <td>2.0</td>\n",
       "      <td>2.0</td>\n",
       "      <td>3.0</td>\n",
       "    </tr>\n",
       "    <tr>\n",
       "      <th>8084</th>\n",
       "      <td>2020-05-30</td>\n",
       "      <td>159.264</td>\n",
       "      <td>1015</td>\n",
       "      <td>ASTM A510/A510M-18</td>\n",
       "      <td>4</td>\n",
       "      <td>180x180</td>\n",
       "      <td>open</td>\n",
       "      <td>159.864</td>\n",
       "      <td>1.8</td>\n",
       "      <td>0.4</td>\n",
       "      <td>...</td>\n",
       "      <td>0.0000</td>\n",
       "      <td>0.0000</td>\n",
       "      <td>0.0000</td>\n",
       "      <td>30013876</td>\n",
       "      <td>18</td>\n",
       "      <td>6</td>\n",
       "      <td>8473111.0</td>\n",
       "      <td>2.0</td>\n",
       "      <td>3.0</td>\n",
       "      <td>4.0</td>\n",
       "    </tr>\n",
       "  </tbody>\n",
       "</table>\n",
       "<p>5 rows × 60 columns</p>\n",
       "</div>"
      ]
     },
     "execution_count": 131,
     "metadata": {},
     "output_type": "execute_result"
    }
   ],
   "execution_count": 131
  },
  {
   "metadata": {},
   "cell_type": "markdown",
   "source": [
    "### What This Means for the Process:\n",
    "These 5 rows should be examined more closely:\n",
    "\n",
    "Are they linked to specific steel types, temperatures, or operational settings?\n",
    "\n",
    "Are they outliers, or common for a certain production configuration?\n",
    "\n",
    "May use these findings to:\n",
    "\n",
    "Improve process safety, energy efficiency, or material quality.\n",
    "\n",
    "Investigate maintenance schedules or equipment degradation (e.g., if low resistance is linked to specific machine states or dates)."
   ],
   "id": "f10593808b5898d"
  },
  {
   "metadata": {},
   "cell_type": "markdown",
   "source": [
    "### Part 5: Percent Change & Differences\n",
    "\n",
    "16. Compute the percent change between consecutive values in `steel_weight, tonn`."
   ],
   "id": "176e37dc44f84068"
  },
  {
   "metadata": {
    "ExecuteTime": {
     "end_time": "2025-05-07T15:04:01.787220Z",
     "start_time": "2025-05-07T15:04:01.781797Z"
    }
   },
   "cell_type": "code",
   "source": "df['steel_weight, tonn'].pct_change(fill_method=None)",
   "id": "e2557315f2baeb26",
   "outputs": [
    {
     "data": {
      "text/plain": [
       "0             NaN\n",
       "1        0.144928\n",
       "2        0.012658\n",
       "3        0.012500\n",
       "4       -0.037037\n",
       "           ...   \n",
       "17498    0.018514\n",
       "17499    0.000000\n",
       "17500   -0.018177\n",
       "17501    0.018514\n",
       "17502    0.000000\n",
       "Name: steel_weight, tonn, Length: 17503, dtype: float64"
      ]
     },
     "execution_count": 132,
     "metadata": {},
     "output_type": "execute_result"
    }
   ],
   "execution_count": 132
  },
  {
   "metadata": {},
   "cell_type": "markdown",
   "source": [
    "The **percent change in `steel_weight, tonn`** gives insight into how much the steel weight **fluctuates from one record to the next**, which can be very important for **monitoring consistency and detecting anomalies** in the process.\n",
    "\n",
    "\n",
    "\n",
    "### Interpretation in Context:\n",
    "\n",
    "Let’s break it down:\n",
    "\n",
    "| Observation         | Meaning                                                                                                                                         |\n",
    "| ------------------- | ----------------------------------------------------------------------------------------------------------------------------------------------- |\n",
    "| `0.1449` (≈14.5%)   | The steel weight **increased by \\~14.5%** compared to the previous record — potentially a heavier input batch or different casting requirement. |\n",
    "| `-0.0370` (≈-3.7%)  | The steel weight **dropped by 3.7%** — indicating a slight reduction in input.                                                                  |\n",
    "| `-0.1732` (≈-17.3%) | A sharp **drop** in steel weight, possibly indicating a **change in product type**, casting issue, or manual override.                          |\n",
    "| `0.1939` (≈+19.4%)  | A **significant increase** — perhaps ramp-up or shift to larger components.                                                                     |\n",
    "\n",
    "\n",
    "\n",
    "### What It Says About the Process:\n",
    "\n",
    "#### Normal operations:\n",
    "\n",
    "* Small fluctuations (±1–5%) are common and expected in industrial settings.\n",
    "\n",
    "#### Significant deviations (±10% or more):\n",
    "\n",
    "* May indicate **process shifts**, **manual changes**, **equipment behavior**, or **data entry errors**.\n",
    "* Should be **flagged for review**, especially if they persist or correlate with other anomalies (e.g., sudden drops in resistance, spike in temperature, etc.).\n",
    "\n",
    "\n",
    "### Use Cases:\n",
    "\n",
    "1. **Process Stability**: Stable % changes imply a well-controlled process.\n",
    "2. **Quality Control**: Detect outliers that could affect product quality.\n",
    "3. **Root Cause Analysis**: Combine with other variables (e.g., temperature, alloy type) to explain major swings.\n",
    "4. **Trend Detection**: Plot the changes to find cycles, bottlenecks, or batch-based variations."
   ],
   "id": "97110a931dfa16f3"
  },
  {
   "metadata": {},
   "cell_type": "markdown",
   "source": "17. Compute the absolute difference between consecutive values in `temperature_measurement2, Celsius deg.`.",
   "id": "c4998e9ba0979b85"
  },
  {
   "metadata": {
    "ExecuteTime": {
     "end_time": "2025-05-07T15:10:53.841515Z",
     "start_time": "2025-05-07T15:10:53.831322Z"
    }
   },
   "cell_type": "code",
   "source": "df['temperature_measurement2, Celsius deg.'].diff().abs()",
   "id": "29edb989e3f03287",
   "outputs": [
    {
     "data": {
      "text/plain": [
       "0         NaN\n",
       "1        10.0\n",
       "2        13.0\n",
       "3         9.0\n",
       "4         2.0\n",
       "         ... \n",
       "17498     6.0\n",
       "17499     0.0\n",
       "17500     6.0\n",
       "17501     6.0\n",
       "17502     0.0\n",
       "Name: temperature_measurement2, Celsius deg., Length: 17503, dtype: float64"
      ]
     },
     "execution_count": 133,
     "metadata": {},
     "output_type": "execute_result"
    }
   ],
   "execution_count": 133
  },
  {
   "metadata": {},
   "cell_type": "markdown",
   "source": [
    "### What This Means for the Process:\n",
    "\n",
    "* **Small absolute differences (e.g., 2–5°C)** suggest **temperature stability**, which may be ideal for consistent production.\n",
    "* **Large jumps (e.g., >10°C)** may signal:\n",
    "\n",
    "  * A process change\n",
    "  * A batch variation\n",
    "  * A control issue\n",
    "  * Or even faulty sensor readings\n",
    "\n",
    "Monitoring these differences over time can help identify **instabilities, trends, or anomalies** in the thermal profile of the process."
   ],
   "id": "efdcf26a2ff53097"
  },
  {
   "metadata": {},
   "cell_type": "markdown",
   "source": "18. Which date had the largest percent drop in `RUL` compared to the previous record?",
   "id": "8b08e17bb429c2ae"
  },
  {
   "metadata": {
    "ExecuteTime": {
     "end_time": "2025-05-07T15:16:03.971896Z",
     "start_time": "2025-05-07T15:16:03.968772Z"
    }
   },
   "cell_type": "code",
   "source": "df['rul_pct_change'] = df['RUL'].pct_change(fill_method=None)",
   "id": "a5719813d9001989",
   "outputs": [],
   "execution_count": 137
  },
  {
   "metadata": {
    "ExecuteTime": {
     "end_time": "2025-05-07T15:16:35.511982Z",
     "start_time": "2025-05-07T15:16:35.507688Z"
    }
   },
   "cell_type": "code",
   "source": "df['rul_pct_change']",
   "id": "3abf98d06415fdaa",
   "outputs": [
    {
     "data": {
      "text/plain": [
       "0             NaN\n",
       "1        1.700521\n",
       "2       -0.657666\n",
       "3       -0.154930\n",
       "4       -0.453333\n",
       "           ...   \n",
       "17498   -0.007623\n",
       "17499    2.286486\n",
       "17500    0.002337\n",
       "17501   -0.672338\n",
       "17502    0.257512\n",
       "Name: rul_pct_change, Length: 17503, dtype: float64"
      ]
     },
     "execution_count": 139,
     "metadata": {},
     "output_type": "execute_result"
    }
   ],
   "execution_count": 139
  },
  {
   "metadata": {
    "ExecuteTime": {
     "end_time": "2025-05-07T15:18:50.496039Z",
     "start_time": "2025-05-07T15:18:50.489573Z"
    }
   },
   "cell_type": "code",
   "source": "nonzero_drop = df[df['RUL'] != 0]",
   "id": "1ec2c832b70ea1da",
   "outputs": [],
   "execution_count": 140
  },
  {
   "metadata": {
    "ExecuteTime": {
     "end_time": "2025-05-07T15:19:02.084550Z",
     "start_time": "2025-05-07T15:19:02.075737Z"
    }
   },
   "cell_type": "code",
   "source": "nonzero_drop[['date', 'RUL', 'rul_pct_change']].sort_values(by='rul_pct_change', ascending=True).head(5)",
   "id": "8112adb38cd92252",
   "outputs": [
    {
     "data": {
      "text/plain": [
       "            date     RUL  rul_pct_change\n",
       "8235  2020-05-31   281.0       -0.999967\n",
       "8200  2020-05-31   338.0       -0.999960\n",
       "9338  2020-06-09  1204.0       -0.999858\n",
       "9328  2020-06-09  1226.0       -0.999855\n",
       "8088  2020-05-30  1386.0       -0.999836"
      ],
      "text/html": [
       "<div>\n",
       "<style scoped>\n",
       "    .dataframe tbody tr th:only-of-type {\n",
       "        vertical-align: middle;\n",
       "    }\n",
       "\n",
       "    .dataframe tbody tr th {\n",
       "        vertical-align: top;\n",
       "    }\n",
       "\n",
       "    .dataframe thead th {\n",
       "        text-align: right;\n",
       "    }\n",
       "</style>\n",
       "<table border=\"1\" class=\"dataframe\">\n",
       "  <thead>\n",
       "    <tr style=\"text-align: right;\">\n",
       "      <th></th>\n",
       "      <th>date</th>\n",
       "      <th>RUL</th>\n",
       "      <th>rul_pct_change</th>\n",
       "    </tr>\n",
       "  </thead>\n",
       "  <tbody>\n",
       "    <tr>\n",
       "      <th>8235</th>\n",
       "      <td>2020-05-31</td>\n",
       "      <td>281.0</td>\n",
       "      <td>-0.999967</td>\n",
       "    </tr>\n",
       "    <tr>\n",
       "      <th>8200</th>\n",
       "      <td>2020-05-31</td>\n",
       "      <td>338.0</td>\n",
       "      <td>-0.999960</td>\n",
       "    </tr>\n",
       "    <tr>\n",
       "      <th>9338</th>\n",
       "      <td>2020-06-09</td>\n",
       "      <td>1204.0</td>\n",
       "      <td>-0.999858</td>\n",
       "    </tr>\n",
       "    <tr>\n",
       "      <th>9328</th>\n",
       "      <td>2020-06-09</td>\n",
       "      <td>1226.0</td>\n",
       "      <td>-0.999855</td>\n",
       "    </tr>\n",
       "    <tr>\n",
       "      <th>8088</th>\n",
       "      <td>2020-05-30</td>\n",
       "      <td>1386.0</td>\n",
       "      <td>-0.999836</td>\n",
       "    </tr>\n",
       "  </tbody>\n",
       "</table>\n",
       "</div>"
      ]
     },
     "execution_count": 141,
     "metadata": {},
     "output_type": "execute_result"
    }
   ],
   "execution_count": 141
  },
  {
   "metadata": {},
   "cell_type": "markdown",
   "source": [
    "This output shows the **largest non-zero percent drops in RUL (Remaining Useful Life)** — excluding cases where RUL simply dropped to 0. These are near-complete losses in RUL, with nearly -100% drops (around `-0.9999`) that are **sudden and significant**.\n",
    "\n",
    "\n",
    "### Interpretation\n",
    "\n",
    "* These drops **did not go to zero**, but lost **almost all of their prior value** in a single step.\n",
    "* This indicates **extreme degradation** or **critical failure onset**.\n",
    "* All events happened in a **tight timeframe (May–June 2020)**, suggesting:\n",
    "\n",
    "  * A process fault\n",
    "  * Sensor miscalibration\n",
    "  * A severe batch-related issue\n",
    "  * Or a specific machine failure\n",
    "\n",
    "\n",
    "### What This Means for the Process\n",
    "\n",
    "This insight could indicate **a systemic issue** or **urgent failure risk**:\n",
    "\n",
    "1. **Critical Review Needed**: Engineers should investigate what happened on those dates. This is not normal behavior.\n",
    "2. **Preventative Maintenance**: Set alerts for steep RUL drops approaching this magnitude.\n",
    "3. **Predictive Modeling**: These records should be flagged as high-risk in predictive failure models.\n",
    "4. **Cross-Variable Correlation**: Look at `steel_type`, `alloy_type`, temperature, and resistance on those dates to find contributing factors."
   ],
   "id": "6a35574dcf712f9"
  },
  {
   "metadata": {},
   "cell_type": "markdown",
   "source": [
    "### Part 6: Correlation & Covariance\n",
    "\n",
    "19. Compute the Pearson correlation between `RUL` and `temperature_measurement1, Celsius deg.`."
   ],
   "id": "7b11eeceaccf224c"
  },
  {
   "metadata": {
    "ExecuteTime": {
     "end_time": "2025-05-07T15:54:27.111329Z",
     "start_time": "2025-05-07T15:54:27.097162Z"
    }
   },
   "cell_type": "code",
   "source": "df['RUL'].corr(df['temperature_measurement1, Celsius deg.'])",
   "id": "4a12afc1e8e0de1b",
   "outputs": [
    {
     "data": {
      "text/plain": [
       "np.float64(0.00531403167843449)"
      ]
     },
     "execution_count": 142,
     "metadata": {},
     "output_type": "execute_result"
    }
   ],
   "execution_count": 142
  },
  {
   "metadata": {},
   "cell_type": "markdown",
   "source": [
    "### Interpretation\n",
    "- A correlation of ~0.0053 indicates no linear relationship between the two variables.\n",
    "\n",
    "- This means that as the temperature goes up or down, it has virtually no effect on the Remaining Useful Life (RUL) — at least in a linear sense.\n",
    "\n",
    "- Pearson correlation does not capture nonlinear patterns — so while linear influence is absent, nonlinear patterns might still exist and can be explored using other methods (e.g., mutual information, scatter plots, or machine learning models)."
   ],
   "id": "bdb94b25dcdcd8d2"
  },
  {
   "metadata": {},
   "cell_type": "markdown",
   "source": "20. Compute the correlation between all numeric chemical composition columns (e.g., C, Si, Mn, S, etc.).",
   "id": "31045fd1795ed8f1"
  },
  {
   "metadata": {
    "ExecuteTime": {
     "end_time": "2025-05-07T15:58:35.184492Z",
     "start_time": "2025-05-07T15:58:35.181857Z"
    }
   },
   "cell_type": "code",
   "source": "all_columns = df.columns",
   "id": "436881ba81362bac",
   "outputs": [],
   "execution_count": 145
  },
  {
   "metadata": {
    "ExecuteTime": {
     "end_time": "2025-05-07T15:58:36.144799Z",
     "start_time": "2025-05-07T15:58:36.141567Z"
    }
   },
   "cell_type": "code",
   "source": [
    "composition_columns = []\n",
    "for column in all_columns:\n",
    "    if column.endswith('%'):\n",
    "        composition_columns.append(column)"
   ],
   "id": "b46e05660f3d88a6",
   "outputs": [],
   "execution_count": 146
  },
  {
   "metadata": {
    "ExecuteTime": {
     "end_time": "2025-05-07T15:58:47.389322Z",
     "start_time": "2025-05-07T15:58:47.385786Z"
    }
   },
   "cell_type": "code",
   "source": "composition_columns",
   "id": "fd0599905ece822f",
   "outputs": [
    {
     "data": {
      "text/plain": [
       "['Ce, %',\n",
       " 'C, %',\n",
       " 'Si, %',\n",
       " 'Mn,%',\n",
       " 'S, %',\n",
       " 'P, %',\n",
       " 'Cr, %',\n",
       " 'Ni, %',\n",
       " 'Cu, %',\n",
       " 'As, %',\n",
       " 'Mo, %',\n",
       " 'Nb, %',\n",
       " 'Sn, %',\n",
       " 'Ti, %',\n",
       " 'V, %',\n",
       " 'Al, %',\n",
       " 'Ca, %',\n",
       " 'N, %',\n",
       " 'Pb, %',\n",
       " 'Mg, %',\n",
       " 'Zn, %']"
      ]
     },
     "execution_count": 147,
     "metadata": {},
     "output_type": "execute_result"
    }
   ],
   "execution_count": 147
  },
  {
   "metadata": {
    "ExecuteTime": {
     "end_time": "2025-05-07T16:00:23.029142Z",
     "start_time": "2025-05-07T16:00:22.998842Z"
    }
   },
   "cell_type": "code",
   "source": "df[composition_columns].corr()",
   "id": "84fc49c2a76c340c",
   "outputs": [
    {
     "data": {
      "text/plain": [
       "          Ce, %      C, %     Si, %      Mn,%      S, %      P, %     Cr, %  \\\n",
       "Ce, %  1.000000  0.801069  0.842557  0.946956  0.131664  0.147803  0.295927   \n",
       "C, %   0.801069  1.000000  0.691559  0.491590  0.088408  0.092592  0.159496   \n",
       "Si, %  0.842557  0.691559  1.000000  0.621296  0.060850 -0.000653  0.127881   \n",
       "Mn,%   0.946956  0.491590  0.621296  1.000000  0.085118  0.198205  0.389499   \n",
       "S, %   0.131664  0.088408  0.060850  0.085118  1.000000  0.199453  0.126871   \n",
       "P, %   0.147803  0.092592 -0.000653  0.198205  0.199453  1.000000  0.310724   \n",
       "Cr, %  0.295927  0.159496  0.127881  0.389499  0.126871  0.310724  1.000000   \n",
       "Ni, %  0.068912  0.028714  0.008056  0.039351  0.141385  0.259556  0.474812   \n",
       "Cu, %  0.139638  0.023368  0.030743  0.080058  0.288822  0.236584  0.491731   \n",
       "As, %  0.153586  0.127358  0.177214  0.092829  0.011205  0.104981  0.162103   \n",
       "Mo, %  0.077156  0.003846  0.005336  0.074932  0.204639  0.107768  0.511463   \n",
       "Nb, %  0.376635  0.078811  0.177307  0.426418 -0.013884  0.188250  0.209517   \n",
       "Sn, % -0.011064  0.018933 -0.000059 -0.036507  0.079669  0.064765  0.064363   \n",
       "Ti, %  0.813117  0.507784  0.700356  0.645788  0.115758  0.088469  0.255662   \n",
       "V, %   0.567288  0.284397  0.374161  0.666978  0.091978  0.235833  0.314498   \n",
       "Al, %  0.246622  0.052309  0.188194  0.117044  0.109095 -0.044226  0.031649   \n",
       "Ca, %  0.106836 -0.003323  0.039495  0.015326  0.085878 -0.047060 -0.002377   \n",
       "N, %   0.190541  0.162190  0.152943  0.129754  0.347341 -0.104215  0.164660   \n",
       "Pb, %  0.221167  0.055085  0.054966  0.155120  0.438183  0.049439  0.257909   \n",
       "Mg, %  0.144093  0.154073  0.109329  0.083253  0.201518 -0.001769  0.134157   \n",
       "Zn, %  0.094153  0.165425  0.115426  0.081496  0.207442 -0.011688  0.137219   \n",
       "\n",
       "          Ni, %     Cu, %     As, %  ...     Nb, %     Sn, %     Ti, %  \\\n",
       "Ce, %  0.068912  0.139638  0.153586  ...  0.376635 -0.011064  0.813117   \n",
       "C, %   0.028714  0.023368  0.127358  ...  0.078811  0.018933  0.507784   \n",
       "Si, %  0.008056  0.030743  0.177214  ...  0.177307 -0.000059  0.700356   \n",
       "Mn,%   0.039351  0.080058  0.092829  ...  0.426418 -0.036507  0.645788   \n",
       "S, %   0.141385  0.288822  0.011205  ... -0.013884  0.079669  0.115758   \n",
       "P, %   0.259556  0.236584  0.104981  ...  0.188250  0.064765  0.088469   \n",
       "Cr, %  0.474812  0.491731  0.162103  ...  0.209517  0.064363  0.255662   \n",
       "Ni, %  1.000000  0.628063  0.380659  ... -0.005247  0.112911 -0.005321   \n",
       "Cu, %  0.628063  1.000000  0.367737  ...  0.140857  0.118818  0.177540   \n",
       "As, %  0.380659  0.367737  1.000000  ...  0.118109  0.106873  0.089429   \n",
       "Mo, %  0.591672  0.478878  0.203647  ... -0.016351  0.152753  0.102735   \n",
       "Nb, % -0.005247  0.140857  0.118109  ...  1.000000 -0.099431  0.509202   \n",
       "Sn, %  0.112911  0.118818  0.106873  ... -0.099431  1.000000 -0.019423   \n",
       "Ti, % -0.005321  0.177540  0.089429  ...  0.509202 -0.019423  1.000000   \n",
       "V, %  -0.000289  0.135373  0.086457  ...  0.439162 -0.094439  0.462621   \n",
       "Al, % -0.056682  0.125884  0.040077  ...  0.148411  0.141311  0.356715   \n",
       "Ca, % -0.073154  0.092172 -0.067479  ...  0.258475  0.005327  0.346092   \n",
       "N, %   0.056385  0.242991 -0.036943  ... -0.078143  0.081834  0.224848   \n",
       "Pb, %  0.040615  0.376860 -0.143094  ...  0.010173  0.323007  0.384854   \n",
       "Mg, %  0.054505  0.186610 -0.023778  ... -0.133701  0.317202  0.221364   \n",
       "Zn, %  0.119676  0.153194  0.036220  ... -0.291779  0.419793  0.067894   \n",
       "\n",
       "           V, %     Al, %     Ca, %      N, %     Pb, %     Mg, %     Zn, %  \n",
       "Ce, %  0.567288  0.246622  0.106836  0.190541  0.221167  0.144093  0.094153  \n",
       "C, %   0.284397  0.052309 -0.003323  0.162190  0.055085  0.154073  0.165425  \n",
       "Si, %  0.374161  0.188194  0.039495  0.152943  0.054966  0.109329  0.115426  \n",
       "Mn,%   0.666978  0.117044  0.015326  0.129754  0.155120  0.083253  0.081496  \n",
       "S, %   0.091978  0.109095  0.085878  0.347341  0.438183  0.201518  0.207442  \n",
       "P, %   0.235833 -0.044226 -0.047060 -0.104215  0.049439 -0.001769 -0.011688  \n",
       "Cr, %  0.314498  0.031649 -0.002377  0.164660  0.257909  0.134157  0.137219  \n",
       "Ni, % -0.000289 -0.056682 -0.073154  0.056385  0.040615  0.054505  0.119676  \n",
       "Cu, %  0.135373  0.125884  0.092172  0.242991  0.376860  0.186610  0.153194  \n",
       "As, %  0.086457  0.040077 -0.067479 -0.036943 -0.143094 -0.023778  0.036220  \n",
       "Mo, %  0.087397  0.099002  0.027080  0.306548  0.382279  0.262185  0.308782  \n",
       "Nb, %  0.439162  0.148411  0.258475 -0.078143  0.010173 -0.133701 -0.291779  \n",
       "Sn, % -0.094439  0.141311  0.005327  0.081834  0.323007  0.317202  0.419793  \n",
       "Ti, %  0.462621  0.356715  0.346092  0.224848  0.384854  0.221364  0.067894  \n",
       "V, %   1.000000  0.110118  0.044921  0.064025  0.142199  0.032894  0.009862  \n",
       "Al, %  0.110118  1.000000  0.262106  0.272978  0.390088  0.339562  0.138113  \n",
       "Ca, %  0.044921  0.262106  1.000000  0.103703  0.296141  0.345898 -0.110071  \n",
       "N, %   0.064025  0.272978  0.103703  1.000000  0.639001  0.483932  0.436046  \n",
       "Pb, %  0.142199  0.390088  0.296141  0.639001  1.000000  0.553180  0.398248  \n",
       "Mg, %  0.032894  0.339562  0.345898  0.483932  0.553180  1.000000  0.444811  \n",
       "Zn, %  0.009862  0.138113 -0.110071  0.436046  0.398248  0.444811  1.000000  \n",
       "\n",
       "[21 rows x 21 columns]"
      ],
      "text/html": [
       "<div>\n",
       "<style scoped>\n",
       "    .dataframe tbody tr th:only-of-type {\n",
       "        vertical-align: middle;\n",
       "    }\n",
       "\n",
       "    .dataframe tbody tr th {\n",
       "        vertical-align: top;\n",
       "    }\n",
       "\n",
       "    .dataframe thead th {\n",
       "        text-align: right;\n",
       "    }\n",
       "</style>\n",
       "<table border=\"1\" class=\"dataframe\">\n",
       "  <thead>\n",
       "    <tr style=\"text-align: right;\">\n",
       "      <th></th>\n",
       "      <th>Ce, %</th>\n",
       "      <th>C, %</th>\n",
       "      <th>Si, %</th>\n",
       "      <th>Mn,%</th>\n",
       "      <th>S, %</th>\n",
       "      <th>P, %</th>\n",
       "      <th>Cr, %</th>\n",
       "      <th>Ni, %</th>\n",
       "      <th>Cu, %</th>\n",
       "      <th>As, %</th>\n",
       "      <th>...</th>\n",
       "      <th>Nb, %</th>\n",
       "      <th>Sn, %</th>\n",
       "      <th>Ti, %</th>\n",
       "      <th>V, %</th>\n",
       "      <th>Al, %</th>\n",
       "      <th>Ca, %</th>\n",
       "      <th>N, %</th>\n",
       "      <th>Pb, %</th>\n",
       "      <th>Mg, %</th>\n",
       "      <th>Zn, %</th>\n",
       "    </tr>\n",
       "  </thead>\n",
       "  <tbody>\n",
       "    <tr>\n",
       "      <th>Ce, %</th>\n",
       "      <td>1.000000</td>\n",
       "      <td>0.801069</td>\n",
       "      <td>0.842557</td>\n",
       "      <td>0.946956</td>\n",
       "      <td>0.131664</td>\n",
       "      <td>0.147803</td>\n",
       "      <td>0.295927</td>\n",
       "      <td>0.068912</td>\n",
       "      <td>0.139638</td>\n",
       "      <td>0.153586</td>\n",
       "      <td>...</td>\n",
       "      <td>0.376635</td>\n",
       "      <td>-0.011064</td>\n",
       "      <td>0.813117</td>\n",
       "      <td>0.567288</td>\n",
       "      <td>0.246622</td>\n",
       "      <td>0.106836</td>\n",
       "      <td>0.190541</td>\n",
       "      <td>0.221167</td>\n",
       "      <td>0.144093</td>\n",
       "      <td>0.094153</td>\n",
       "    </tr>\n",
       "    <tr>\n",
       "      <th>C, %</th>\n",
       "      <td>0.801069</td>\n",
       "      <td>1.000000</td>\n",
       "      <td>0.691559</td>\n",
       "      <td>0.491590</td>\n",
       "      <td>0.088408</td>\n",
       "      <td>0.092592</td>\n",
       "      <td>0.159496</td>\n",
       "      <td>0.028714</td>\n",
       "      <td>0.023368</td>\n",
       "      <td>0.127358</td>\n",
       "      <td>...</td>\n",
       "      <td>0.078811</td>\n",
       "      <td>0.018933</td>\n",
       "      <td>0.507784</td>\n",
       "      <td>0.284397</td>\n",
       "      <td>0.052309</td>\n",
       "      <td>-0.003323</td>\n",
       "      <td>0.162190</td>\n",
       "      <td>0.055085</td>\n",
       "      <td>0.154073</td>\n",
       "      <td>0.165425</td>\n",
       "    </tr>\n",
       "    <tr>\n",
       "      <th>Si, %</th>\n",
       "      <td>0.842557</td>\n",
       "      <td>0.691559</td>\n",
       "      <td>1.000000</td>\n",
       "      <td>0.621296</td>\n",
       "      <td>0.060850</td>\n",
       "      <td>-0.000653</td>\n",
       "      <td>0.127881</td>\n",
       "      <td>0.008056</td>\n",
       "      <td>0.030743</td>\n",
       "      <td>0.177214</td>\n",
       "      <td>...</td>\n",
       "      <td>0.177307</td>\n",
       "      <td>-0.000059</td>\n",
       "      <td>0.700356</td>\n",
       "      <td>0.374161</td>\n",
       "      <td>0.188194</td>\n",
       "      <td>0.039495</td>\n",
       "      <td>0.152943</td>\n",
       "      <td>0.054966</td>\n",
       "      <td>0.109329</td>\n",
       "      <td>0.115426</td>\n",
       "    </tr>\n",
       "    <tr>\n",
       "      <th>Mn,%</th>\n",
       "      <td>0.946956</td>\n",
       "      <td>0.491590</td>\n",
       "      <td>0.621296</td>\n",
       "      <td>1.000000</td>\n",
       "      <td>0.085118</td>\n",
       "      <td>0.198205</td>\n",
       "      <td>0.389499</td>\n",
       "      <td>0.039351</td>\n",
       "      <td>0.080058</td>\n",
       "      <td>0.092829</td>\n",
       "      <td>...</td>\n",
       "      <td>0.426418</td>\n",
       "      <td>-0.036507</td>\n",
       "      <td>0.645788</td>\n",
       "      <td>0.666978</td>\n",
       "      <td>0.117044</td>\n",
       "      <td>0.015326</td>\n",
       "      <td>0.129754</td>\n",
       "      <td>0.155120</td>\n",
       "      <td>0.083253</td>\n",
       "      <td>0.081496</td>\n",
       "    </tr>\n",
       "    <tr>\n",
       "      <th>S, %</th>\n",
       "      <td>0.131664</td>\n",
       "      <td>0.088408</td>\n",
       "      <td>0.060850</td>\n",
       "      <td>0.085118</td>\n",
       "      <td>1.000000</td>\n",
       "      <td>0.199453</td>\n",
       "      <td>0.126871</td>\n",
       "      <td>0.141385</td>\n",
       "      <td>0.288822</td>\n",
       "      <td>0.011205</td>\n",
       "      <td>...</td>\n",
       "      <td>-0.013884</td>\n",
       "      <td>0.079669</td>\n",
       "      <td>0.115758</td>\n",
       "      <td>0.091978</td>\n",
       "      <td>0.109095</td>\n",
       "      <td>0.085878</td>\n",
       "      <td>0.347341</td>\n",
       "      <td>0.438183</td>\n",
       "      <td>0.201518</td>\n",
       "      <td>0.207442</td>\n",
       "    </tr>\n",
       "    <tr>\n",
       "      <th>P, %</th>\n",
       "      <td>0.147803</td>\n",
       "      <td>0.092592</td>\n",
       "      <td>-0.000653</td>\n",
       "      <td>0.198205</td>\n",
       "      <td>0.199453</td>\n",
       "      <td>1.000000</td>\n",
       "      <td>0.310724</td>\n",
       "      <td>0.259556</td>\n",
       "      <td>0.236584</td>\n",
       "      <td>0.104981</td>\n",
       "      <td>...</td>\n",
       "      <td>0.188250</td>\n",
       "      <td>0.064765</td>\n",
       "      <td>0.088469</td>\n",
       "      <td>0.235833</td>\n",
       "      <td>-0.044226</td>\n",
       "      <td>-0.047060</td>\n",
       "      <td>-0.104215</td>\n",
       "      <td>0.049439</td>\n",
       "      <td>-0.001769</td>\n",
       "      <td>-0.011688</td>\n",
       "    </tr>\n",
       "    <tr>\n",
       "      <th>Cr, %</th>\n",
       "      <td>0.295927</td>\n",
       "      <td>0.159496</td>\n",
       "      <td>0.127881</td>\n",
       "      <td>0.389499</td>\n",
       "      <td>0.126871</td>\n",
       "      <td>0.310724</td>\n",
       "      <td>1.000000</td>\n",
       "      <td>0.474812</td>\n",
       "      <td>0.491731</td>\n",
       "      <td>0.162103</td>\n",
       "      <td>...</td>\n",
       "      <td>0.209517</td>\n",
       "      <td>0.064363</td>\n",
       "      <td>0.255662</td>\n",
       "      <td>0.314498</td>\n",
       "      <td>0.031649</td>\n",
       "      <td>-0.002377</td>\n",
       "      <td>0.164660</td>\n",
       "      <td>0.257909</td>\n",
       "      <td>0.134157</td>\n",
       "      <td>0.137219</td>\n",
       "    </tr>\n",
       "    <tr>\n",
       "      <th>Ni, %</th>\n",
       "      <td>0.068912</td>\n",
       "      <td>0.028714</td>\n",
       "      <td>0.008056</td>\n",
       "      <td>0.039351</td>\n",
       "      <td>0.141385</td>\n",
       "      <td>0.259556</td>\n",
       "      <td>0.474812</td>\n",
       "      <td>1.000000</td>\n",
       "      <td>0.628063</td>\n",
       "      <td>0.380659</td>\n",
       "      <td>...</td>\n",
       "      <td>-0.005247</td>\n",
       "      <td>0.112911</td>\n",
       "      <td>-0.005321</td>\n",
       "      <td>-0.000289</td>\n",
       "      <td>-0.056682</td>\n",
       "      <td>-0.073154</td>\n",
       "      <td>0.056385</td>\n",
       "      <td>0.040615</td>\n",
       "      <td>0.054505</td>\n",
       "      <td>0.119676</td>\n",
       "    </tr>\n",
       "    <tr>\n",
       "      <th>Cu, %</th>\n",
       "      <td>0.139638</td>\n",
       "      <td>0.023368</td>\n",
       "      <td>0.030743</td>\n",
       "      <td>0.080058</td>\n",
       "      <td>0.288822</td>\n",
       "      <td>0.236584</td>\n",
       "      <td>0.491731</td>\n",
       "      <td>0.628063</td>\n",
       "      <td>1.000000</td>\n",
       "      <td>0.367737</td>\n",
       "      <td>...</td>\n",
       "      <td>0.140857</td>\n",
       "      <td>0.118818</td>\n",
       "      <td>0.177540</td>\n",
       "      <td>0.135373</td>\n",
       "      <td>0.125884</td>\n",
       "      <td>0.092172</td>\n",
       "      <td>0.242991</td>\n",
       "      <td>0.376860</td>\n",
       "      <td>0.186610</td>\n",
       "      <td>0.153194</td>\n",
       "    </tr>\n",
       "    <tr>\n",
       "      <th>As, %</th>\n",
       "      <td>0.153586</td>\n",
       "      <td>0.127358</td>\n",
       "      <td>0.177214</td>\n",
       "      <td>0.092829</td>\n",
       "      <td>0.011205</td>\n",
       "      <td>0.104981</td>\n",
       "      <td>0.162103</td>\n",
       "      <td>0.380659</td>\n",
       "      <td>0.367737</td>\n",
       "      <td>1.000000</td>\n",
       "      <td>...</td>\n",
       "      <td>0.118109</td>\n",
       "      <td>0.106873</td>\n",
       "      <td>0.089429</td>\n",
       "      <td>0.086457</td>\n",
       "      <td>0.040077</td>\n",
       "      <td>-0.067479</td>\n",
       "      <td>-0.036943</td>\n",
       "      <td>-0.143094</td>\n",
       "      <td>-0.023778</td>\n",
       "      <td>0.036220</td>\n",
       "    </tr>\n",
       "    <tr>\n",
       "      <th>Mo, %</th>\n",
       "      <td>0.077156</td>\n",
       "      <td>0.003846</td>\n",
       "      <td>0.005336</td>\n",
       "      <td>0.074932</td>\n",
       "      <td>0.204639</td>\n",
       "      <td>0.107768</td>\n",
       "      <td>0.511463</td>\n",
       "      <td>0.591672</td>\n",
       "      <td>0.478878</td>\n",
       "      <td>0.203647</td>\n",
       "      <td>...</td>\n",
       "      <td>-0.016351</td>\n",
       "      <td>0.152753</td>\n",
       "      <td>0.102735</td>\n",
       "      <td>0.087397</td>\n",
       "      <td>0.099002</td>\n",
       "      <td>0.027080</td>\n",
       "      <td>0.306548</td>\n",
       "      <td>0.382279</td>\n",
       "      <td>0.262185</td>\n",
       "      <td>0.308782</td>\n",
       "    </tr>\n",
       "    <tr>\n",
       "      <th>Nb, %</th>\n",
       "      <td>0.376635</td>\n",
       "      <td>0.078811</td>\n",
       "      <td>0.177307</td>\n",
       "      <td>0.426418</td>\n",
       "      <td>-0.013884</td>\n",
       "      <td>0.188250</td>\n",
       "      <td>0.209517</td>\n",
       "      <td>-0.005247</td>\n",
       "      <td>0.140857</td>\n",
       "      <td>0.118109</td>\n",
       "      <td>...</td>\n",
       "      <td>1.000000</td>\n",
       "      <td>-0.099431</td>\n",
       "      <td>0.509202</td>\n",
       "      <td>0.439162</td>\n",
       "      <td>0.148411</td>\n",
       "      <td>0.258475</td>\n",
       "      <td>-0.078143</td>\n",
       "      <td>0.010173</td>\n",
       "      <td>-0.133701</td>\n",
       "      <td>-0.291779</td>\n",
       "    </tr>\n",
       "    <tr>\n",
       "      <th>Sn, %</th>\n",
       "      <td>-0.011064</td>\n",
       "      <td>0.018933</td>\n",
       "      <td>-0.000059</td>\n",
       "      <td>-0.036507</td>\n",
       "      <td>0.079669</td>\n",
       "      <td>0.064765</td>\n",
       "      <td>0.064363</td>\n",
       "      <td>0.112911</td>\n",
       "      <td>0.118818</td>\n",
       "      <td>0.106873</td>\n",
       "      <td>...</td>\n",
       "      <td>-0.099431</td>\n",
       "      <td>1.000000</td>\n",
       "      <td>-0.019423</td>\n",
       "      <td>-0.094439</td>\n",
       "      <td>0.141311</td>\n",
       "      <td>0.005327</td>\n",
       "      <td>0.081834</td>\n",
       "      <td>0.323007</td>\n",
       "      <td>0.317202</td>\n",
       "      <td>0.419793</td>\n",
       "    </tr>\n",
       "    <tr>\n",
       "      <th>Ti, %</th>\n",
       "      <td>0.813117</td>\n",
       "      <td>0.507784</td>\n",
       "      <td>0.700356</td>\n",
       "      <td>0.645788</td>\n",
       "      <td>0.115758</td>\n",
       "      <td>0.088469</td>\n",
       "      <td>0.255662</td>\n",
       "      <td>-0.005321</td>\n",
       "      <td>0.177540</td>\n",
       "      <td>0.089429</td>\n",
       "      <td>...</td>\n",
       "      <td>0.509202</td>\n",
       "      <td>-0.019423</td>\n",
       "      <td>1.000000</td>\n",
       "      <td>0.462621</td>\n",
       "      <td>0.356715</td>\n",
       "      <td>0.346092</td>\n",
       "      <td>0.224848</td>\n",
       "      <td>0.384854</td>\n",
       "      <td>0.221364</td>\n",
       "      <td>0.067894</td>\n",
       "    </tr>\n",
       "    <tr>\n",
       "      <th>V, %</th>\n",
       "      <td>0.567288</td>\n",
       "      <td>0.284397</td>\n",
       "      <td>0.374161</td>\n",
       "      <td>0.666978</td>\n",
       "      <td>0.091978</td>\n",
       "      <td>0.235833</td>\n",
       "      <td>0.314498</td>\n",
       "      <td>-0.000289</td>\n",
       "      <td>0.135373</td>\n",
       "      <td>0.086457</td>\n",
       "      <td>...</td>\n",
       "      <td>0.439162</td>\n",
       "      <td>-0.094439</td>\n",
       "      <td>0.462621</td>\n",
       "      <td>1.000000</td>\n",
       "      <td>0.110118</td>\n",
       "      <td>0.044921</td>\n",
       "      <td>0.064025</td>\n",
       "      <td>0.142199</td>\n",
       "      <td>0.032894</td>\n",
       "      <td>0.009862</td>\n",
       "    </tr>\n",
       "    <tr>\n",
       "      <th>Al, %</th>\n",
       "      <td>0.246622</td>\n",
       "      <td>0.052309</td>\n",
       "      <td>0.188194</td>\n",
       "      <td>0.117044</td>\n",
       "      <td>0.109095</td>\n",
       "      <td>-0.044226</td>\n",
       "      <td>0.031649</td>\n",
       "      <td>-0.056682</td>\n",
       "      <td>0.125884</td>\n",
       "      <td>0.040077</td>\n",
       "      <td>...</td>\n",
       "      <td>0.148411</td>\n",
       "      <td>0.141311</td>\n",
       "      <td>0.356715</td>\n",
       "      <td>0.110118</td>\n",
       "      <td>1.000000</td>\n",
       "      <td>0.262106</td>\n",
       "      <td>0.272978</td>\n",
       "      <td>0.390088</td>\n",
       "      <td>0.339562</td>\n",
       "      <td>0.138113</td>\n",
       "    </tr>\n",
       "    <tr>\n",
       "      <th>Ca, %</th>\n",
       "      <td>0.106836</td>\n",
       "      <td>-0.003323</td>\n",
       "      <td>0.039495</td>\n",
       "      <td>0.015326</td>\n",
       "      <td>0.085878</td>\n",
       "      <td>-0.047060</td>\n",
       "      <td>-0.002377</td>\n",
       "      <td>-0.073154</td>\n",
       "      <td>0.092172</td>\n",
       "      <td>-0.067479</td>\n",
       "      <td>...</td>\n",
       "      <td>0.258475</td>\n",
       "      <td>0.005327</td>\n",
       "      <td>0.346092</td>\n",
       "      <td>0.044921</td>\n",
       "      <td>0.262106</td>\n",
       "      <td>1.000000</td>\n",
       "      <td>0.103703</td>\n",
       "      <td>0.296141</td>\n",
       "      <td>0.345898</td>\n",
       "      <td>-0.110071</td>\n",
       "    </tr>\n",
       "    <tr>\n",
       "      <th>N, %</th>\n",
       "      <td>0.190541</td>\n",
       "      <td>0.162190</td>\n",
       "      <td>0.152943</td>\n",
       "      <td>0.129754</td>\n",
       "      <td>0.347341</td>\n",
       "      <td>-0.104215</td>\n",
       "      <td>0.164660</td>\n",
       "      <td>0.056385</td>\n",
       "      <td>0.242991</td>\n",
       "      <td>-0.036943</td>\n",
       "      <td>...</td>\n",
       "      <td>-0.078143</td>\n",
       "      <td>0.081834</td>\n",
       "      <td>0.224848</td>\n",
       "      <td>0.064025</td>\n",
       "      <td>0.272978</td>\n",
       "      <td>0.103703</td>\n",
       "      <td>1.000000</td>\n",
       "      <td>0.639001</td>\n",
       "      <td>0.483932</td>\n",
       "      <td>0.436046</td>\n",
       "    </tr>\n",
       "    <tr>\n",
       "      <th>Pb, %</th>\n",
       "      <td>0.221167</td>\n",
       "      <td>0.055085</td>\n",
       "      <td>0.054966</td>\n",
       "      <td>0.155120</td>\n",
       "      <td>0.438183</td>\n",
       "      <td>0.049439</td>\n",
       "      <td>0.257909</td>\n",
       "      <td>0.040615</td>\n",
       "      <td>0.376860</td>\n",
       "      <td>-0.143094</td>\n",
       "      <td>...</td>\n",
       "      <td>0.010173</td>\n",
       "      <td>0.323007</td>\n",
       "      <td>0.384854</td>\n",
       "      <td>0.142199</td>\n",
       "      <td>0.390088</td>\n",
       "      <td>0.296141</td>\n",
       "      <td>0.639001</td>\n",
       "      <td>1.000000</td>\n",
       "      <td>0.553180</td>\n",
       "      <td>0.398248</td>\n",
       "    </tr>\n",
       "    <tr>\n",
       "      <th>Mg, %</th>\n",
       "      <td>0.144093</td>\n",
       "      <td>0.154073</td>\n",
       "      <td>0.109329</td>\n",
       "      <td>0.083253</td>\n",
       "      <td>0.201518</td>\n",
       "      <td>-0.001769</td>\n",
       "      <td>0.134157</td>\n",
       "      <td>0.054505</td>\n",
       "      <td>0.186610</td>\n",
       "      <td>-0.023778</td>\n",
       "      <td>...</td>\n",
       "      <td>-0.133701</td>\n",
       "      <td>0.317202</td>\n",
       "      <td>0.221364</td>\n",
       "      <td>0.032894</td>\n",
       "      <td>0.339562</td>\n",
       "      <td>0.345898</td>\n",
       "      <td>0.483932</td>\n",
       "      <td>0.553180</td>\n",
       "      <td>1.000000</td>\n",
       "      <td>0.444811</td>\n",
       "    </tr>\n",
       "    <tr>\n",
       "      <th>Zn, %</th>\n",
       "      <td>0.094153</td>\n",
       "      <td>0.165425</td>\n",
       "      <td>0.115426</td>\n",
       "      <td>0.081496</td>\n",
       "      <td>0.207442</td>\n",
       "      <td>-0.011688</td>\n",
       "      <td>0.137219</td>\n",
       "      <td>0.119676</td>\n",
       "      <td>0.153194</td>\n",
       "      <td>0.036220</td>\n",
       "      <td>...</td>\n",
       "      <td>-0.291779</td>\n",
       "      <td>0.419793</td>\n",
       "      <td>0.067894</td>\n",
       "      <td>0.009862</td>\n",
       "      <td>0.138113</td>\n",
       "      <td>-0.110071</td>\n",
       "      <td>0.436046</td>\n",
       "      <td>0.398248</td>\n",
       "      <td>0.444811</td>\n",
       "      <td>1.000000</td>\n",
       "    </tr>\n",
       "  </tbody>\n",
       "</table>\n",
       "<p>21 rows × 21 columns</p>\n",
       "</div>"
      ]
     },
     "execution_count": 148,
     "metadata": {},
     "output_type": "execute_result"
    }
   ],
   "execution_count": 148
  },
  {
   "metadata": {},
   "cell_type": "markdown",
   "source": [
    "### Interpretation\n",
    "\n",
    "* The correlation matrix (as shown) helps:\n",
    "\n",
    "  * Detect **redundant variables** (e.g., `'Ce, %'` and `'C, %'` have a correlation ≈ 0.80)\n",
    "  * Identify **multicollinearity** before applying modeling or dimensionality reduction.\n",
    "  * Suggest chemical **interactions or co-presence patterns** (useful in alloy formulation or quality control).\n",
    "\n",
    "\n",
    "\n",
    "### Example Insights\n",
    "\n",
    "* `Ti, %` and `Ce, %`: **strong positive correlation** (≈ 0.81)\n",
    "* `Mn, %` and `P, %`: moderately correlated (≈ 0.39)\n",
    "* `S, %` appears **weakly correlated** with most others, suggesting it's an independent variable in this context"
   ],
   "id": "aa6a23dd3f6a8c7f"
  },
  {
   "metadata": {},
   "cell_type": "markdown",
   "source": "21. Compute the covariance matrix for `RUL`, `alloy_speed, meter/minute`, and `swing_frequency, amount/minute`.",
   "id": "4231d91394fbc17f"
  },
  {
   "metadata": {
    "ExecuteTime": {
     "end_time": "2025-05-07T16:05:49.246636Z",
     "start_time": "2025-05-07T16:05:49.238813Z"
    }
   },
   "cell_type": "code",
   "source": "df[['RUL', 'alloy_speed, meter/minute', 'swing_frequency, amount/minute']].cov()",
   "id": "96ce422cf242229",
   "outputs": [
    {
     "data": {
      "text/plain": [
       "                                         RUL  alloy_speed, meter/minute  \\\n",
       "RUL                             1.655525e+12                7996.354368   \n",
       "alloy_speed, meter/minute       7.996354e+03                   0.111955   \n",
       "swing_frequency, amount/minute -2.529900e+05                  -2.999822   \n",
       "\n",
       "                                swing_frequency, amount/minute  \n",
       "RUL                                             -252990.012453  \n",
       "alloy_speed, meter/minute                            -2.999822  \n",
       "swing_frequency, amount/minute                      141.331874  "
      ],
      "text/html": [
       "<div>\n",
       "<style scoped>\n",
       "    .dataframe tbody tr th:only-of-type {\n",
       "        vertical-align: middle;\n",
       "    }\n",
       "\n",
       "    .dataframe tbody tr th {\n",
       "        vertical-align: top;\n",
       "    }\n",
       "\n",
       "    .dataframe thead th {\n",
       "        text-align: right;\n",
       "    }\n",
       "</style>\n",
       "<table border=\"1\" class=\"dataframe\">\n",
       "  <thead>\n",
       "    <tr style=\"text-align: right;\">\n",
       "      <th></th>\n",
       "      <th>RUL</th>\n",
       "      <th>alloy_speed, meter/minute</th>\n",
       "      <th>swing_frequency, amount/minute</th>\n",
       "    </tr>\n",
       "  </thead>\n",
       "  <tbody>\n",
       "    <tr>\n",
       "      <th>RUL</th>\n",
       "      <td>1.655525e+12</td>\n",
       "      <td>7996.354368</td>\n",
       "      <td>-252990.012453</td>\n",
       "    </tr>\n",
       "    <tr>\n",
       "      <th>alloy_speed, meter/minute</th>\n",
       "      <td>7.996354e+03</td>\n",
       "      <td>0.111955</td>\n",
       "      <td>-2.999822</td>\n",
       "    </tr>\n",
       "    <tr>\n",
       "      <th>swing_frequency, amount/minute</th>\n",
       "      <td>-2.529900e+05</td>\n",
       "      <td>-2.999822</td>\n",
       "      <td>141.331874</td>\n",
       "    </tr>\n",
       "  </tbody>\n",
       "</table>\n",
       "</div>"
      ]
     },
     "execution_count": 149,
     "metadata": {},
     "output_type": "execute_result"
    }
   ],
   "execution_count": 149
  },
  {
   "metadata": {},
   "cell_type": "markdown",
   "source": [
    "#### Key Observations:\n",
    "\n",
    "* `RUL` has a **positive covariance** with `alloy_speed`, suggesting that as alloy speed increases, `RUL` tends to increase too (but check the units and scale).\n",
    "* `RUL` has a **negative covariance** with `swing_frequency`, which may indicate an inverse relationship.\n",
    "* Diagonal entries are **variances** (e.g., `Var(RUL) = 1.655525e+12`).\n",
    "\n",
    "\n",
    "\n",
    "### Reminder:\n",
    "\n",
    "Covariance shows **direction and scale**, but not strength. To measure **strength and standardized direction**, use `.corr()` (Pearson correlation matrix)."
   ],
   "id": "107f224dd99f3248"
  },
  {
   "metadata": {},
   "cell_type": "markdown",
   "source": [
    "### Part 7: Missing Data in Stats\n",
    "\n",
    "22. How many missing values are there in each column?"
   ],
   "id": "15f6408173a71dce"
  },
  {
   "metadata": {
    "ExecuteTime": {
     "end_time": "2025-05-07T16:11:06.756025Z",
     "start_time": "2025-05-07T16:11:06.743476Z"
    }
   },
   "cell_type": "code",
   "source": "df.isna().sum()",
   "id": "ba6efd55a0e726f1",
   "outputs": [
    {
     "data": {
      "text/plain": [
       "date                        0\n",
       "workpiece_weight, tonn      0\n",
       "steel_type                  0\n",
       "doc_requirement             0\n",
       "cast_in_row                 0\n",
       "                         ... \n",
       "RUL                       224\n",
       "url_rank                  224\n",
       "new_rul_rank              224\n",
       "resistance_rank           224\n",
       "rul_pct_change            345\n",
       "Length: 61, dtype: int64"
      ]
     },
     "execution_count": 150,
     "metadata": {},
     "output_type": "execute_result"
    }
   ],
   "execution_count": 150
  },
  {
   "metadata": {},
   "cell_type": "markdown",
   "source": [
    "### Interpretation from the Output:\n",
    "\n",
    "* Columns like:\n",
    "\n",
    "  * `'residuals_grab2, tonn'` → **16,990** missing\n",
    "  * `'technical_trim, tonn'` → **17,427** missing\n",
    "  * `'grab1_num'` → **271** missing\n",
    "  * `'resistance, tonn'` → **224** missing\n",
    "  * `'steel_temperature_grab1, Celsius deg.'` → **3** missing\n",
    "  * `'grab2_num'` → **16** missing\n",
    "\n",
    "* Columns like:\n",
    "\n",
    "  * `'steel_weight, tonn'`, `'swing_frequency, amount/minute'`, and `'alloy_speed, meter/minute'` have **0** missing values — good for modeling.\n",
    "\n",
    "\n",
    "### What to Do Next?\n",
    "\n",
    "Might want to:\n",
    "\n",
    "* **Drop** columns with excessive missing values (e.g., over 90% missing).\n",
    "* **Impute** (fill in) missing values using mean, median, forward fill, etc.\n",
    "* **Visualize** missing data with a heatmap or bar chart (e.g., using `missingno` or `seaborn`) for clarity."
   ],
   "id": "d5fabd38f5c739b5"
  },
  {
   "metadata": {},
   "cell_type": "markdown",
   "source": "23. Compute the mean of `Ce, %` with and without missing values included.",
   "id": "e14c82e10ebcb783"
  },
  {
   "metadata": {
    "ExecuteTime": {
     "end_time": "2025-05-07T16:15:02.862377Z",
     "start_time": "2025-05-07T16:15:02.857761Z"
    }
   },
   "cell_type": "code",
   "source": "df['Ce, %'].mean(skipna=True)",
   "id": "bd55f1cf9d72c46a",
   "outputs": [
    {
     "data": {
      "text/plain": [
       "np.float64(0.34175648140478754)"
      ]
     },
     "execution_count": 151,
     "metadata": {},
     "output_type": "execute_result"
    }
   ],
   "execution_count": 151
  },
  {
   "metadata": {
    "ExecuteTime": {
     "end_time": "2025-05-07T16:15:18.599191Z",
     "start_time": "2025-05-07T16:15:18.595638Z"
    }
   },
   "cell_type": "code",
   "source": "df['Ce, %'].mean(skipna=False)",
   "id": "e4917bd3fb18650a",
   "outputs": [
    {
     "data": {
      "text/plain": [
       "np.float64(nan)"
      ]
     },
     "execution_count": 152,
     "metadata": {},
     "output_type": "execute_result"
    }
   ],
   "execution_count": 152
  },
  {
   "metadata": {},
   "cell_type": "markdown",
   "source": [
    "### Interpretation for the Process:\n",
    "\n",
    "#### 1. `skipna=True` — Ignoring Missing Values:\n",
    "\n",
    "* **Meaning**: Calculated the mean based **only on available data**.\n",
    "* **Use Case**: This is common in exploratory data analysis (EDA), especially when:\n",
    "\n",
    "  * Not yet ready to handle missing values formally.\n",
    "  * Assumes the missing values are random and won't bias the result.\n",
    "* **Impact**: Allows to still compute summary statistics even when the dataset is incomplete.\n",
    "\n",
    "#### 2. `skipna=False` — Include Missing Values:\n",
    "\n",
    "* **Meaning**: Since there's at least one `NaN`, the result is `NaN`.\n",
    "* **Use Case**: Forces to **acknowledge data gaps**.\n",
    "* **Impact**: This prevents hidden issues when:\n",
    "\n",
    "  * Preparing data for production or machine learning.\n",
    "  * There is a need for a complete, clean dataset.\n",
    "  * There is a need to raise alerts when missing values may affect reliability.\n",
    "\n",
    "\n",
    "\n",
    "### Process Implications:\n",
    "\n",
    "| Scenario                           | What It Means                                                | Suggested Action                                                  |\n",
    "|------------------------------------| ------------------------------------------------------------ |-------------------------------------------------------------------|\n",
    "| Got a numeric mean (`skipna=True`) | Some data is available and being used.                       | Proceed, but investigate how many values were skipped.            |\n",
    "| Got `NaN` (`skipna=False`)         | At least one `NaN` exists, which prevents safe calculations. | **Must clean or impute** these missing values before further use. |\n",
    "\n",
    "\n",
    "\n",
    "### Recommendation:\n",
    "\n",
    "Should **check how many missing values** exist in `'Ce, %'` (e.g., `df['Ce, %'].isna().sum()`) and decide whether to:\n",
    "\n",
    "* Drop them (if very few),\n",
    "* Fill them with a default or interpolated value,\n",
    "* Or model them if the missingness is systematic."
   ],
   "id": "d599e7b83e374f68"
  },
  {
   "metadata": {},
   "cell_type": "markdown",
   "source": "24. Drop all rows with missing values in `residuals_grab2, tonn` and compute its mean.",
   "id": "b82f3a9a82044938"
  },
  {
   "metadata": {
    "ExecuteTime": {
     "end_time": "2025-05-07T16:19:20.074778Z",
     "start_time": "2025-05-07T16:19:20.070357Z"
    }
   },
   "cell_type": "code",
   "source": "df = pd.DataFrame(data)",
   "id": "9e904a1c26c9fc07",
   "outputs": [],
   "execution_count": 153
  },
  {
   "metadata": {
    "ExecuteTime": {
     "end_time": "2025-05-07T16:25:33.307315Z",
     "start_time": "2025-05-07T16:25:33.303641Z"
    }
   },
   "cell_type": "code",
   "source": "df['residuals_grab2, tonn'].dropna().mean()",
   "id": "4cd2224941564d44",
   "outputs": [
    {
     "data": {
      "text/plain": [
       "np.float64(5.771189083820663)"
      ]
     },
     "execution_count": 159,
     "metadata": {},
     "output_type": "execute_result"
    }
   ],
   "execution_count": 159
  },
  {
   "metadata": {},
   "cell_type": "markdown",
   "source": [
    "### What It Means for the Process:\n",
    "\n",
    "This value — **5.77 tons** — is the **average value of residuals in grab 2**, *after removing missing records*. Here's what this tells us:\n",
    "\n",
    "\n",
    "\n",
    "### Interpretation for the Process:\n",
    "\n",
    "1. **Data Quality Check Passed**:\n",
    "\n",
    "   * Filtered out **16,990 missing rows** (from earlier steps).\n",
    "   * The average is now calculated **only from reliable, complete data**.\n",
    "\n",
    "2. **Operational Insight**:\n",
    "\n",
    "   * This number likely represents **residual material left over** in a secondary grab or phase of the process (e.g., waste or byproduct).\n",
    "   * An average of \\~5.77 tons could indicate how efficiently or cleanly the process completes material transfer or handling.\n",
    "\n",
    "3. **Benchmark for Optimization**:\n",
    "\n",
    "   * If want to **reduce waste** or **improve recovery**, this value can be a **baseline**.\n",
    "   * Any future improvements to reduce this average would signal better efficiency.\n",
    "\n",
    "\n",
    "\n",
    "### Suggestion:\n",
    "\n",
    "To go further:\n",
    "\n",
    "* Compare residuals by **steel type**, **alloy type**, or **time period**.\n",
    "* Use `.groupby()` and `.mean()` to find which combinations produce more or less residual."
   ],
   "id": "35035b0317f61dfc"
  },
  {
   "metadata": {},
   "cell_type": "markdown",
   "source": [
    "### Part 8: Group-Based Descriptive Statistics\n",
    "\n",
    "25. Group the data by `steel_type` and compute the average `RUL` for each group."
   ],
   "id": "52afa3e52cbcc686"
  },
  {
   "metadata": {
    "ExecuteTime": {
     "end_time": "2025-05-07T16:30:06.974359Z",
     "start_time": "2025-05-07T16:30:06.956564Z"
    }
   },
   "cell_type": "code",
   "source": "df.groupby('steel_type')['RUL'].mean()",
   "id": "54286d4fc2e934a9",
   "outputs": [
    {
     "data": {
      "text/plain": [
       "steel_type\n",
       "1008        5113.400000\n",
       "1010        7735.550459\n",
       "1015      782444.459924\n",
       "1018        4327.913636\n",
       "20          1646.208333\n",
       "25G2S       8212.926014\n",
       "Arm240      1607.670103\n",
       "Arm500    191426.146574\n",
       "St3sp     625431.181013\n",
       "St4sp      60354.872781\n",
       "V500V       2679.500000\n",
       "YP          3301.022222\n",
       "Name: RUL, dtype: float64"
      ]
     },
     "execution_count": 160,
     "metadata": {},
     "output_type": "execute_result"
    }
   ],
   "execution_count": 160
  },
  {
   "metadata": {},
   "cell_type": "markdown",
   "source": [
    "### What It Means for the Process:\n",
    "\n",
    "1. **Steel Performance Insight**:\n",
    "\n",
    "   * Know which steel types have higher or lower average `RUL`, meaning:\n",
    "\n",
    "     * How long that steel type is expected to last on average.\n",
    "     * How durable or effective it is under the operational conditions.\n",
    "\n",
    "2. **Examples from Output**:\n",
    "\n",
    "   * `1015` has the **highest average RUL**: \\~782,444 → very long-lasting.\n",
    "   * `Arm240` has the **lowest**: \\~1,607 → much shorter lifespan.\n",
    "   * `Arm500` is also durable: \\~191,426.\n",
    "   * `St3sp` is fairly high as well: \\~625,431.\n",
    "\n",
    "3. **Use Cases**:\n",
    "\n",
    "   * Optimize material selection based on RUL vs cost.\n",
    "   * Identify underperforming steel types to phase out.\n",
    "   * Correlate with temperature, residuals, or processing speed for deeper analysis."
   ],
   "id": "d48130aed84cec11"
  },
  {
   "metadata": {},
   "cell_type": "markdown",
   "source": "26. Group the data by `num_crystallizer` and report the standard deviation of `alloy_speed, meter/minute`.",
   "id": "128ed03c21877fbe"
  },
  {
   "metadata": {
    "ExecuteTime": {
     "end_time": "2025-05-07T16:33:00.901541Z",
     "start_time": "2025-05-07T16:33:00.889173Z"
    }
   },
   "cell_type": "code",
   "source": "df.groupby('num_crystallizer')['alloy_speed, meter/minute'].std()",
   "id": "eab1d4072446898f",
   "outputs": [
    {
     "data": {
      "text/plain": [
       "num_crystallizer\n",
       "1     0.471321\n",
       "2     0.361131\n",
       "3     0.481220\n",
       "4     0.511189\n",
       "5     0.386893\n",
       "6     0.498255\n",
       "7     0.285566\n",
       "8     0.235683\n",
       "9     0.210392\n",
       "10    0.240568\n",
       "11    0.369843\n",
       "12    0.265081\n",
       "13    0.207943\n",
       "14    0.255642\n",
       "15    0.231936\n",
       "16    0.249733\n",
       "17    0.212356\n",
       "18    0.282976\n",
       "19    0.302506\n",
       "20    0.386946\n",
       "21    0.496801\n",
       "22    0.463276\n",
       "23    0.462137\n",
       "24    0.333562\n",
       "Name: alloy_speed, meter/minute, dtype: float64"
      ]
     },
     "execution_count": 161,
     "metadata": {},
     "output_type": "execute_result"
    }
   ],
   "execution_count": 161
  },
  {
   "metadata": {},
   "cell_type": "markdown",
   "source": [
    "### What It Means for the Process:\n",
    "\n",
    "1. **Standard Deviation** tells how much the alloy speed varies for each crystallizer.\n",
    "\n",
    "   * A **higher std** → more inconsistency in alloy speed.\n",
    "   * A **lower std** → more stable speed for that crystallizer.\n",
    "\n",
    "2. **Usefulness**:\n",
    "\n",
    "   * Helps identify **process stability** per crystallizer unit.\n",
    "   * For instance:\n",
    "\n",
    "     * Crystallizer `3` and `5` have **higher variation** → may need inspection.\n",
    "     * Crystallizer `8` and `9` are **more stable** → tighter control.\n",
    "\n",
    "3. **Next Steps**:\n",
    "\n",
    "   * Investigate reasons for high variation in specific crystallizers.\n",
    "   * Compare with product quality or defect rates.\n",
    "   * Consider maintenance or calibration if inconsistencies affect product integrity."
   ],
   "id": "19fe641af3ee9147"
  },
  {
   "metadata": {},
   "cell_type": "markdown",
   "source": "27. Group by both `alloy_type` and `steel_type` and compute the count of entries for each combination.",
   "id": "a6494c4c617ec16d"
  },
  {
   "metadata": {
    "ExecuteTime": {
     "end_time": "2025-05-07T16:39:10.263848Z",
     "start_time": "2025-05-07T16:39:10.257803Z"
    }
   },
   "cell_type": "code",
   "source": "df.groupby(['alloy_type', 'steel_type']).size()",
   "id": "8e832ee43f5b1a41",
   "outputs": [
    {
     "data": {
      "text/plain": [
       "alloy_type  steel_type\n",
       "close       1008             30\n",
       "            1010            117\n",
       "            20               24\n",
       "            Arm240            6\n",
       "            Arm500           11\n",
       "open        1015            532\n",
       "            1018            220\n",
       "            25G2S           421\n",
       "            Arm240           93\n",
       "            Arm500        13824\n",
       "            St3sp           804\n",
       "            St4sp          1352\n",
       "            V500V            24\n",
       "            YP               45\n",
       "dtype: int64"
      ]
     },
     "execution_count": 168,
     "metadata": {},
     "output_type": "execute_result"
    }
   ],
   "execution_count": 168
  },
  {
   "metadata": {
    "ExecuteTime": {
     "end_time": "2025-05-07T16:40:03.814487Z",
     "start_time": "2025-05-07T16:40:03.805424Z"
    }
   },
   "cell_type": "code",
   "source": [
    "# as a DataFrame\n",
    "df.groupby(['alloy_type', 'steel_type']).size().reset_index(name='count')"
   ],
   "id": "a0f68034a5d74bed",
   "outputs": [
    {
     "data": {
      "text/plain": [
       "   alloy_type steel_type  count\n",
       "0       close       1008     30\n",
       "1       close       1010    117\n",
       "2       close         20     24\n",
       "3       close     Arm240      6\n",
       "4       close     Arm500     11\n",
       "5        open       1015    532\n",
       "6        open       1018    220\n",
       "7        open      25G2S    421\n",
       "8        open     Arm240     93\n",
       "9        open     Arm500  13824\n",
       "10       open      St3sp    804\n",
       "11       open      St4sp   1352\n",
       "12       open      V500V     24\n",
       "13       open         YP     45"
      ],
      "text/html": [
       "<div>\n",
       "<style scoped>\n",
       "    .dataframe tbody tr th:only-of-type {\n",
       "        vertical-align: middle;\n",
       "    }\n",
       "\n",
       "    .dataframe tbody tr th {\n",
       "        vertical-align: top;\n",
       "    }\n",
       "\n",
       "    .dataframe thead th {\n",
       "        text-align: right;\n",
       "    }\n",
       "</style>\n",
       "<table border=\"1\" class=\"dataframe\">\n",
       "  <thead>\n",
       "    <tr style=\"text-align: right;\">\n",
       "      <th></th>\n",
       "      <th>alloy_type</th>\n",
       "      <th>steel_type</th>\n",
       "      <th>count</th>\n",
       "    </tr>\n",
       "  </thead>\n",
       "  <tbody>\n",
       "    <tr>\n",
       "      <th>0</th>\n",
       "      <td>close</td>\n",
       "      <td>1008</td>\n",
       "      <td>30</td>\n",
       "    </tr>\n",
       "    <tr>\n",
       "      <th>1</th>\n",
       "      <td>close</td>\n",
       "      <td>1010</td>\n",
       "      <td>117</td>\n",
       "    </tr>\n",
       "    <tr>\n",
       "      <th>2</th>\n",
       "      <td>close</td>\n",
       "      <td>20</td>\n",
       "      <td>24</td>\n",
       "    </tr>\n",
       "    <tr>\n",
       "      <th>3</th>\n",
       "      <td>close</td>\n",
       "      <td>Arm240</td>\n",
       "      <td>6</td>\n",
       "    </tr>\n",
       "    <tr>\n",
       "      <th>4</th>\n",
       "      <td>close</td>\n",
       "      <td>Arm500</td>\n",
       "      <td>11</td>\n",
       "    </tr>\n",
       "    <tr>\n",
       "      <th>5</th>\n",
       "      <td>open</td>\n",
       "      <td>1015</td>\n",
       "      <td>532</td>\n",
       "    </tr>\n",
       "    <tr>\n",
       "      <th>6</th>\n",
       "      <td>open</td>\n",
       "      <td>1018</td>\n",
       "      <td>220</td>\n",
       "    </tr>\n",
       "    <tr>\n",
       "      <th>7</th>\n",
       "      <td>open</td>\n",
       "      <td>25G2S</td>\n",
       "      <td>421</td>\n",
       "    </tr>\n",
       "    <tr>\n",
       "      <th>8</th>\n",
       "      <td>open</td>\n",
       "      <td>Arm240</td>\n",
       "      <td>93</td>\n",
       "    </tr>\n",
       "    <tr>\n",
       "      <th>9</th>\n",
       "      <td>open</td>\n",
       "      <td>Arm500</td>\n",
       "      <td>13824</td>\n",
       "    </tr>\n",
       "    <tr>\n",
       "      <th>10</th>\n",
       "      <td>open</td>\n",
       "      <td>St3sp</td>\n",
       "      <td>804</td>\n",
       "    </tr>\n",
       "    <tr>\n",
       "      <th>11</th>\n",
       "      <td>open</td>\n",
       "      <td>St4sp</td>\n",
       "      <td>1352</td>\n",
       "    </tr>\n",
       "    <tr>\n",
       "      <th>12</th>\n",
       "      <td>open</td>\n",
       "      <td>V500V</td>\n",
       "      <td>24</td>\n",
       "    </tr>\n",
       "    <tr>\n",
       "      <th>13</th>\n",
       "      <td>open</td>\n",
       "      <td>YP</td>\n",
       "      <td>45</td>\n",
       "    </tr>\n",
       "  </tbody>\n",
       "</table>\n",
       "</div>"
      ]
     },
     "execution_count": 169,
     "metadata": {},
     "output_type": "execute_result"
    }
   ],
   "execution_count": 169
  },
  {
   "metadata": {},
   "cell_type": "markdown",
   "source": [
    "###  What it says about the process:\n",
    "- Production volume insight: Can identify which steel and alloy combinations are most common or have the highest throughput.\n",
    "\n",
    "- Resource tracking: If workpiece_weight is costly, can use this to assess material usage per steel-alloy pairing.\n",
    "\n",
    "- Anomaly detection: If a combination has unusually high or low values, it might signal a process issue, material bottleneck, or overproduction."
   ],
   "id": "13f0af53808c84fd"
  },
  {
   "metadata": {},
   "cell_type": "markdown",
   "source": [
    "### Part 9: Rolling and Expanding Windows\n",
    "\n",
    "28. Compute a 5-point rolling mean on `RUL` and show the first 10 values."
   ],
   "id": "aa958ee23a908e32"
  },
  {
   "metadata": {
    "ExecuteTime": {
     "end_time": "2025-05-07T16:44:15.998659Z",
     "start_time": "2025-05-07T16:44:15.987930Z"
    }
   },
   "cell_type": "code",
   "source": "df['RUL'].rolling(window=5).mean().head(10)",
   "id": "aedcfee083fcb71",
   "outputs": [
    {
     "data": {
      "text/plain": [
       "0      NaN\n",
       "1      NaN\n",
       "2      NaN\n",
       "3      NaN\n",
       "4    448.0\n",
       "5    393.0\n",
       "6    301.0\n",
       "7    328.2\n",
       "8    333.6\n",
       "9    328.0\n",
       "Name: RUL, dtype: float64"
      ]
     },
     "execution_count": 170,
     "metadata": {},
     "output_type": "execute_result"
    }
   ],
   "execution_count": 170
  },
  {
   "metadata": {},
   "cell_type": "markdown",
   "source": [
    "###  What this means for the process:\n",
    "A 5-point rolling mean smooths out short-term fluctuations in RUL (Remaining Useful Life), helping:\n",
    "\n",
    "    - Visualize trends more clearly,\n",
    "\n",
    "    - Detect drops or stability in equipment health,\n",
    "\n",
    "    - Reduce the noise from sudden outliers."
   ],
   "id": "7639eb42a5102763"
  },
  {
   "metadata": {},
   "cell_type": "markdown",
   "source": "29. Compute an expanding mean of `temperature_measurement2, Celsius deg.`.",
   "id": "7858462f2825a227"
  },
  {
   "metadata": {
    "ExecuteTime": {
     "end_time": "2025-05-07T16:47:17.182032Z",
     "start_time": "2025-05-07T16:47:17.176890Z"
    }
   },
   "cell_type": "code",
   "source": "df['temperature_measurement2, Celsius deg.'].expanding().mean()",
   "id": "9611dc40fe73c3d5",
   "outputs": [
    {
     "data": {
      "text/plain": [
       "0        1545.000000\n",
       "1        1540.000000\n",
       "2        1542.666667\n",
       "3        1541.750000\n",
       "4        1541.600000\n",
       "            ...     \n",
       "17498    1540.544955\n",
       "17499    1540.544638\n",
       "17500    1540.544664\n",
       "17501    1540.544347\n",
       "17502    1540.544029\n",
       "Name: temperature_measurement2, Celsius deg., Length: 17503, dtype: float64"
      ]
     },
     "execution_count": 172,
     "metadata": {},
     "output_type": "execute_result"
    }
   ],
   "execution_count": 172
  },
  {
   "metadata": {},
   "cell_type": "markdown",
   "source": [
    "###  Interpretation for the process:\n",
    "This is useful for trend analysis over time. An expanding mean can:\n",
    "\n",
    "    - Smooth fluctuations,\n",
    "\n",
    "    - Show how the average temperature stabilizes or shifts as more data is collected,\n",
    "\n",
    "    - Support control system checks or gradual process drift detection."
   ],
   "id": "19a9b2ae298e207"
  },
  {
   "metadata": {},
   "cell_type": "markdown",
   "source": "30. Identify the rows where the 3-point rolling mean of `steel_weight, tonn` is greater than 10.",
   "id": "a50a7e2e3b4fe437"
  },
  {
   "metadata": {
    "ExecuteTime": {
     "end_time": "2025-05-07T16:49:43.666700Z",
     "start_time": "2025-05-07T16:49:43.648445Z"
    }
   },
   "cell_type": "code",
   "source": "df[(df['steel_weight, tonn'].rolling(window=3).mean() > 10)]",
   "id": "52f270b22f68e4f6",
   "outputs": [
    {
     "data": {
      "text/plain": [
       "             date  workpiece_weight, tonn steel_type doc_requirement  \\\n",
       "2      2020-01-05                 168.000     Arm240  DOC 34028-2016   \n",
       "3      2020-01-05                 170.100      St3sp        Contract   \n",
       "4      2020-01-05                 163.800      St3sp        Contract   \n",
       "5      2020-01-05                 163.800      St3sp        Contract   \n",
       "6      2020-01-05                 163.800     Arm240  DOC 34028-2016   \n",
       "...           ...                     ...        ...             ...   \n",
       "17498  2020-08-26                 168.960     Arm500  DOC 34028-2016   \n",
       "17499  2020-08-26                 168.960     Arm500  DOC 34028-2016   \n",
       "17500  2020-08-26                 165.888     Arm500  DOC 34028-2016   \n",
       "17501  2020-08-26                 168.960     Arm500  DOC 34028-2016   \n",
       "17502  2020-08-26                 168.960     Arm500  DOC 34028-2016   \n",
       "\n",
       "       cast_in_row workpiece_slice_geometry alloy_type  \\\n",
       "2                5                  150x150       open   \n",
       "3                7                  150x150       open   \n",
       "4               12                  150x150       open   \n",
       "5               14                  150x150       open   \n",
       "6                5                  150x150       open   \n",
       "...            ...                      ...        ...   \n",
       "17498           17                  180x180       open   \n",
       "17499           17                  180x180       open   \n",
       "17500           16                  180x180       open   \n",
       "17501            7                  180x180       open   \n",
       "17502           17                  180x180       open   \n",
       "\n",
       "       steel_weight_theoretical, tonn  slag_weight_close_grab1, tonn  \\\n",
       "2                             168.400                            1.8   \n",
       "3                             170.500                            1.8   \n",
       "4                             164.200                            1.8   \n",
       "5                             164.200                            1.8   \n",
       "6                             164.200                            1.8   \n",
       "...                               ...                            ...   \n",
       "17498                         169.731                            1.8   \n",
       "17499                         169.731                            1.8   \n",
       "17500                         166.653                            1.8   \n",
       "17501                         169.731                            1.8   \n",
       "17502                         169.731                            1.8   \n",
       "\n",
       "       metal_residue_grab1, tonn  ...   Al, %   Ca, %    N, %   Pb, %   Mg, %  \\\n",
       "2                            0.4  ...  0.0031  0.0011  0.0068  0.0000  0.0000   \n",
       "3                            0.4  ...  0.0034  0.0005  0.0051  0.0000  0.0000   \n",
       "4                            0.4  ...  0.0032  0.0004  0.0038  0.0000  0.0000   \n",
       "5                            0.4  ...  0.0043  0.0005  0.0035  0.0000  0.0000   \n",
       "6                            0.4  ...  0.0032  0.0011  0.0046  0.0000  0.0000   \n",
       "...                          ...  ...     ...     ...     ...     ...     ...   \n",
       "17498                        0.4  ...  0.0032  0.0011  0.0070  0.0038  0.0000   \n",
       "17499                        0.4  ...  0.0032  0.0011  0.0070  0.0038  0.0000   \n",
       "17500                        0.4  ...  0.0032  0.0015  0.0074  0.0039  0.0001   \n",
       "17501                        0.4  ...  0.0039  0.0011  0.0072  0.0044  0.0001   \n",
       "17502                        0.4  ...  0.0032  0.0011  0.0070  0.0038  0.0000   \n",
       "\n",
       "        Zn, %    sleeve  num_crystallizer  num_stream      RUL  \n",
       "2      0.0000  30012261                22           4    355.0  \n",
       "3      0.0000  30012261                22           4    300.0  \n",
       "4      0.0000  30012261                22           4    164.0  \n",
       "5      0.0000  30012261                22           4    109.0  \n",
       "6      0.0000  30012261                22           4    577.0  \n",
       "...       ...       ...               ...         ...      ...  \n",
       "17498  0.0000  30014135                12           6   3515.0  \n",
       "17499  0.0000  30014818                18           5  11552.0  \n",
       "17500  0.0000  30014818                18           5  11579.0  \n",
       "17501  0.0011  30014135                12           6   3794.0  \n",
       "17502  0.0000  530314 К                17           1   4771.0  \n",
       "\n",
       "[17501 rows x 57 columns]"
      ],
      "text/html": [
       "<div>\n",
       "<style scoped>\n",
       "    .dataframe tbody tr th:only-of-type {\n",
       "        vertical-align: middle;\n",
       "    }\n",
       "\n",
       "    .dataframe tbody tr th {\n",
       "        vertical-align: top;\n",
       "    }\n",
       "\n",
       "    .dataframe thead th {\n",
       "        text-align: right;\n",
       "    }\n",
       "</style>\n",
       "<table border=\"1\" class=\"dataframe\">\n",
       "  <thead>\n",
       "    <tr style=\"text-align: right;\">\n",
       "      <th></th>\n",
       "      <th>date</th>\n",
       "      <th>workpiece_weight, tonn</th>\n",
       "      <th>steel_type</th>\n",
       "      <th>doc_requirement</th>\n",
       "      <th>cast_in_row</th>\n",
       "      <th>workpiece_slice_geometry</th>\n",
       "      <th>alloy_type</th>\n",
       "      <th>steel_weight_theoretical, tonn</th>\n",
       "      <th>slag_weight_close_grab1, tonn</th>\n",
       "      <th>metal_residue_grab1, tonn</th>\n",
       "      <th>...</th>\n",
       "      <th>Al, %</th>\n",
       "      <th>Ca, %</th>\n",
       "      <th>N, %</th>\n",
       "      <th>Pb, %</th>\n",
       "      <th>Mg, %</th>\n",
       "      <th>Zn, %</th>\n",
       "      <th>sleeve</th>\n",
       "      <th>num_crystallizer</th>\n",
       "      <th>num_stream</th>\n",
       "      <th>RUL</th>\n",
       "    </tr>\n",
       "  </thead>\n",
       "  <tbody>\n",
       "    <tr>\n",
       "      <th>2</th>\n",
       "      <td>2020-01-05</td>\n",
       "      <td>168.000</td>\n",
       "      <td>Arm240</td>\n",
       "      <td>DOC 34028-2016</td>\n",
       "      <td>5</td>\n",
       "      <td>150x150</td>\n",
       "      <td>open</td>\n",
       "      <td>168.400</td>\n",
       "      <td>1.8</td>\n",
       "      <td>0.4</td>\n",
       "      <td>...</td>\n",
       "      <td>0.0031</td>\n",
       "      <td>0.0011</td>\n",
       "      <td>0.0068</td>\n",
       "      <td>0.0000</td>\n",
       "      <td>0.0000</td>\n",
       "      <td>0.0000</td>\n",
       "      <td>30012261</td>\n",
       "      <td>22</td>\n",
       "      <td>4</td>\n",
       "      <td>355.0</td>\n",
       "    </tr>\n",
       "    <tr>\n",
       "      <th>3</th>\n",
       "      <td>2020-01-05</td>\n",
       "      <td>170.100</td>\n",
       "      <td>St3sp</td>\n",
       "      <td>Contract</td>\n",
       "      <td>7</td>\n",
       "      <td>150x150</td>\n",
       "      <td>open</td>\n",
       "      <td>170.500</td>\n",
       "      <td>1.8</td>\n",
       "      <td>0.4</td>\n",
       "      <td>...</td>\n",
       "      <td>0.0034</td>\n",
       "      <td>0.0005</td>\n",
       "      <td>0.0051</td>\n",
       "      <td>0.0000</td>\n",
       "      <td>0.0000</td>\n",
       "      <td>0.0000</td>\n",
       "      <td>30012261</td>\n",
       "      <td>22</td>\n",
       "      <td>4</td>\n",
       "      <td>300.0</td>\n",
       "    </tr>\n",
       "    <tr>\n",
       "      <th>4</th>\n",
       "      <td>2020-01-05</td>\n",
       "      <td>163.800</td>\n",
       "      <td>St3sp</td>\n",
       "      <td>Contract</td>\n",
       "      <td>12</td>\n",
       "      <td>150x150</td>\n",
       "      <td>open</td>\n",
       "      <td>164.200</td>\n",
       "      <td>1.8</td>\n",
       "      <td>0.4</td>\n",
       "      <td>...</td>\n",
       "      <td>0.0032</td>\n",
       "      <td>0.0004</td>\n",
       "      <td>0.0038</td>\n",
       "      <td>0.0000</td>\n",
       "      <td>0.0000</td>\n",
       "      <td>0.0000</td>\n",
       "      <td>30012261</td>\n",
       "      <td>22</td>\n",
       "      <td>4</td>\n",
       "      <td>164.0</td>\n",
       "    </tr>\n",
       "    <tr>\n",
       "      <th>5</th>\n",
       "      <td>2020-01-05</td>\n",
       "      <td>163.800</td>\n",
       "      <td>St3sp</td>\n",
       "      <td>Contract</td>\n",
       "      <td>14</td>\n",
       "      <td>150x150</td>\n",
       "      <td>open</td>\n",
       "      <td>164.200</td>\n",
       "      <td>1.8</td>\n",
       "      <td>0.4</td>\n",
       "      <td>...</td>\n",
       "      <td>0.0043</td>\n",
       "      <td>0.0005</td>\n",
       "      <td>0.0035</td>\n",
       "      <td>0.0000</td>\n",
       "      <td>0.0000</td>\n",
       "      <td>0.0000</td>\n",
       "      <td>30012261</td>\n",
       "      <td>22</td>\n",
       "      <td>4</td>\n",
       "      <td>109.0</td>\n",
       "    </tr>\n",
       "    <tr>\n",
       "      <th>6</th>\n",
       "      <td>2020-01-05</td>\n",
       "      <td>163.800</td>\n",
       "      <td>Arm240</td>\n",
       "      <td>DOC 34028-2016</td>\n",
       "      <td>5</td>\n",
       "      <td>150x150</td>\n",
       "      <td>open</td>\n",
       "      <td>164.200</td>\n",
       "      <td>1.8</td>\n",
       "      <td>0.4</td>\n",
       "      <td>...</td>\n",
       "      <td>0.0032</td>\n",
       "      <td>0.0011</td>\n",
       "      <td>0.0046</td>\n",
       "      <td>0.0000</td>\n",
       "      <td>0.0000</td>\n",
       "      <td>0.0000</td>\n",
       "      <td>30012261</td>\n",
       "      <td>22</td>\n",
       "      <td>4</td>\n",
       "      <td>577.0</td>\n",
       "    </tr>\n",
       "    <tr>\n",
       "      <th>...</th>\n",
       "      <td>...</td>\n",
       "      <td>...</td>\n",
       "      <td>...</td>\n",
       "      <td>...</td>\n",
       "      <td>...</td>\n",
       "      <td>...</td>\n",
       "      <td>...</td>\n",
       "      <td>...</td>\n",
       "      <td>...</td>\n",
       "      <td>...</td>\n",
       "      <td>...</td>\n",
       "      <td>...</td>\n",
       "      <td>...</td>\n",
       "      <td>...</td>\n",
       "      <td>...</td>\n",
       "      <td>...</td>\n",
       "      <td>...</td>\n",
       "      <td>...</td>\n",
       "      <td>...</td>\n",
       "      <td>...</td>\n",
       "      <td>...</td>\n",
       "    </tr>\n",
       "    <tr>\n",
       "      <th>17498</th>\n",
       "      <td>2020-08-26</td>\n",
       "      <td>168.960</td>\n",
       "      <td>Arm500</td>\n",
       "      <td>DOC 34028-2016</td>\n",
       "      <td>17</td>\n",
       "      <td>180x180</td>\n",
       "      <td>open</td>\n",
       "      <td>169.731</td>\n",
       "      <td>1.8</td>\n",
       "      <td>0.4</td>\n",
       "      <td>...</td>\n",
       "      <td>0.0032</td>\n",
       "      <td>0.0011</td>\n",
       "      <td>0.0070</td>\n",
       "      <td>0.0038</td>\n",
       "      <td>0.0000</td>\n",
       "      <td>0.0000</td>\n",
       "      <td>30014135</td>\n",
       "      <td>12</td>\n",
       "      <td>6</td>\n",
       "      <td>3515.0</td>\n",
       "    </tr>\n",
       "    <tr>\n",
       "      <th>17499</th>\n",
       "      <td>2020-08-26</td>\n",
       "      <td>168.960</td>\n",
       "      <td>Arm500</td>\n",
       "      <td>DOC 34028-2016</td>\n",
       "      <td>17</td>\n",
       "      <td>180x180</td>\n",
       "      <td>open</td>\n",
       "      <td>169.731</td>\n",
       "      <td>1.8</td>\n",
       "      <td>0.4</td>\n",
       "      <td>...</td>\n",
       "      <td>0.0032</td>\n",
       "      <td>0.0011</td>\n",
       "      <td>0.0070</td>\n",
       "      <td>0.0038</td>\n",
       "      <td>0.0000</td>\n",
       "      <td>0.0000</td>\n",
       "      <td>30014818</td>\n",
       "      <td>18</td>\n",
       "      <td>5</td>\n",
       "      <td>11552.0</td>\n",
       "    </tr>\n",
       "    <tr>\n",
       "      <th>17500</th>\n",
       "      <td>2020-08-26</td>\n",
       "      <td>165.888</td>\n",
       "      <td>Arm500</td>\n",
       "      <td>DOC 34028-2016</td>\n",
       "      <td>16</td>\n",
       "      <td>180x180</td>\n",
       "      <td>open</td>\n",
       "      <td>166.653</td>\n",
       "      <td>1.8</td>\n",
       "      <td>0.4</td>\n",
       "      <td>...</td>\n",
       "      <td>0.0032</td>\n",
       "      <td>0.0015</td>\n",
       "      <td>0.0074</td>\n",
       "      <td>0.0039</td>\n",
       "      <td>0.0001</td>\n",
       "      <td>0.0000</td>\n",
       "      <td>30014818</td>\n",
       "      <td>18</td>\n",
       "      <td>5</td>\n",
       "      <td>11579.0</td>\n",
       "    </tr>\n",
       "    <tr>\n",
       "      <th>17501</th>\n",
       "      <td>2020-08-26</td>\n",
       "      <td>168.960</td>\n",
       "      <td>Arm500</td>\n",
       "      <td>DOC 34028-2016</td>\n",
       "      <td>7</td>\n",
       "      <td>180x180</td>\n",
       "      <td>open</td>\n",
       "      <td>169.731</td>\n",
       "      <td>1.8</td>\n",
       "      <td>0.4</td>\n",
       "      <td>...</td>\n",
       "      <td>0.0039</td>\n",
       "      <td>0.0011</td>\n",
       "      <td>0.0072</td>\n",
       "      <td>0.0044</td>\n",
       "      <td>0.0001</td>\n",
       "      <td>0.0011</td>\n",
       "      <td>30014135</td>\n",
       "      <td>12</td>\n",
       "      <td>6</td>\n",
       "      <td>3794.0</td>\n",
       "    </tr>\n",
       "    <tr>\n",
       "      <th>17502</th>\n",
       "      <td>2020-08-26</td>\n",
       "      <td>168.960</td>\n",
       "      <td>Arm500</td>\n",
       "      <td>DOC 34028-2016</td>\n",
       "      <td>17</td>\n",
       "      <td>180x180</td>\n",
       "      <td>open</td>\n",
       "      <td>169.731</td>\n",
       "      <td>1.8</td>\n",
       "      <td>0.4</td>\n",
       "      <td>...</td>\n",
       "      <td>0.0032</td>\n",
       "      <td>0.0011</td>\n",
       "      <td>0.0070</td>\n",
       "      <td>0.0038</td>\n",
       "      <td>0.0000</td>\n",
       "      <td>0.0000</td>\n",
       "      <td>530314 К</td>\n",
       "      <td>17</td>\n",
       "      <td>1</td>\n",
       "      <td>4771.0</td>\n",
       "    </tr>\n",
       "  </tbody>\n",
       "</table>\n",
       "<p>17501 rows × 57 columns</p>\n",
       "</div>"
      ]
     },
     "execution_count": 174,
     "metadata": {},
     "output_type": "execute_result"
    }
   ],
   "execution_count": 174
  },
  {
   "metadata": {},
   "cell_type": "markdown",
   "source": [
    "### **Interpretation for the Process:**\n",
    "\n",
    "1. **Rolling Mean Context:**\n",
    "\n",
    "   * A 3-point rolling mean smooths out short-term fluctuations and shows the local trend in steel weight over time.\n",
    "   * It averages every 3 consecutive values:\n",
    "     $(val_{i-2} + val_{i-1} + val_i)/3$\n",
    "\n",
    "2. **Threshold > 10 tons:**\n",
    "\n",
    "   * Only keeping rows where the **local average steel weight** is consistently above 10 tons.\n",
    "   * This helps **identify operational periods** when **heavier-than-normal steel** was being processed.\n",
    "\n",
    "\n",
    "\n",
    "### Why it matters for the steel process:\n",
    "\n",
    "* **Quality Monitoring:** Indicates periods where **heavy slabs** or **larger ingots** are being processed, which might relate to higher-grade steel.\n",
    "* **Operational State Detection:** Could reflect **shifts in machine usage**, production orders, or changes in casting specs.\n",
    "* **Outlier Detection:** If 10 tons is unusually high for the normal operating range, this can help flag **anomalies** or **peak load periods**.\n",
    "\n",
    "\n",
    "\n",
    "### Example Use Cases:\n",
    "\n",
    "* Identify **heat treatment runs** that involved heavy slabs.\n",
    "* Filter data for **stress or fatigue analysis** based on mass.\n",
    "* Feed this condition into **predictive models** (e.g., estimating energy use or failure risk)."
   ],
   "id": "ca62716f89983c0f"
  },
  {
   "metadata": {
    "ExecuteTime": {
     "end_time": "2025-05-07T13:14:05.941976Z",
     "start_time": "2025-05-07T13:14:05.939824Z"
    }
   },
   "cell_type": "code",
   "source": "",
   "id": "b9adfaca87bae4b5",
   "outputs": [],
   "execution_count": 36
  }
 ],
 "metadata": {
  "kernelspec": {
   "display_name": "Python 3",
   "language": "python",
   "name": "python3"
  },
  "language_info": {
   "codemirror_mode": {
    "name": "ipython",
    "version": 2
   },
   "file_extension": ".py",
   "mimetype": "text/x-python",
   "name": "python",
   "nbconvert_exporter": "python",
   "pygments_lexer": "ipython2",
   "version": "2.7.6"
  }
 },
 "nbformat": 4,
 "nbformat_minor": 5
}
